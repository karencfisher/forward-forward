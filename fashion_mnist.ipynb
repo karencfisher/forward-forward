{
  "cells": [
    {
      "cell_type": "markdown",
      "source": [
        "Run the following cell if on Google Colab to load Python modules"
      ],
      "metadata": {
        "id": "wDDP1L9BpqPE"
      }
    },
    {
      "cell_type": "code",
      "source": [
        "!wget https://raw.githubusercontent.com/karencfisher/forward-forward/main/models.py\n",
        "!wget https://raw.githubusercontent.com/karencfisher/forward-forward/main/layers.py\n",
        "!wget https://raw.githubusercontent.com/karencfisher/forward-forward/main/utils.py"
      ],
      "metadata": {
        "colab": {
          "base_uri": "https://localhost:8080/"
        },
        "id": "TzeEnO2mizXf",
        "outputId": "af598d53-a8dc-4920-db1a-ad0f6e83a0fd"
      },
      "execution_count": 1,
      "outputs": [
        {
          "output_type": "stream",
          "name": "stdout",
          "text": [
            "--2023-02-21 02:46:22--  https://raw.githubusercontent.com/karencfisher/forward-forward/main/models.py\n",
            "Resolving raw.githubusercontent.com (raw.githubusercontent.com)... 185.199.108.133, 185.199.109.133, 185.199.110.133, ...\n",
            "Connecting to raw.githubusercontent.com (raw.githubusercontent.com)|185.199.108.133|:443... connected.\n",
            "HTTP request sent, awaiting response... 200 OK\n",
            "Length: 2961 (2.9K) [text/plain]\n",
            "Saving to: ‘models.py’\n",
            "\n",
            "models.py           100%[===================>]   2.89K  --.-KB/s    in 0s      \n",
            "\n",
            "2023-02-21 02:46:23 (46.0 MB/s) - ‘models.py’ saved [2961/2961]\n",
            "\n",
            "--2023-02-21 02:46:23--  https://raw.githubusercontent.com/karencfisher/forward-forward/main/layers.py\n",
            "Resolving raw.githubusercontent.com (raw.githubusercontent.com)... 185.199.108.133, 185.199.109.133, 185.199.110.133, ...\n",
            "Connecting to raw.githubusercontent.com (raw.githubusercontent.com)|185.199.108.133|:443... connected.\n",
            "HTTP request sent, awaiting response... 200 OK\n",
            "Length: 1613 (1.6K) [text/plain]\n",
            "Saving to: ‘layers.py’\n",
            "\n",
            "layers.py           100%[===================>]   1.58K  --.-KB/s    in 0s      \n",
            "\n",
            "2023-02-21 02:46:23 (21.0 MB/s) - ‘layers.py’ saved [1613/1613]\n",
            "\n",
            "--2023-02-21 02:46:23--  https://raw.githubusercontent.com/karencfisher/forward-forward/main/utils.py\n",
            "Resolving raw.githubusercontent.com (raw.githubusercontent.com)... 185.199.108.133, 185.199.109.133, 185.199.110.133, ...\n",
            "Connecting to raw.githubusercontent.com (raw.githubusercontent.com)|185.199.108.133|:443... connected.\n",
            "HTTP request sent, awaiting response... 200 OK\n",
            "Length: 1033 (1.0K) [text/plain]\n",
            "Saving to: ‘utils.py’\n",
            "\n",
            "utils.py            100%[===================>]   1.01K  --.-KB/s    in 0s      \n",
            "\n",
            "2023-02-21 02:46:24 (59.5 MB/s) - ‘utils.py’ saved [1033/1033]\n",
            "\n"
          ]
        }
      ]
    },
    {
      "cell_type": "code",
      "execution_count": 2,
      "metadata": {
        "id": "yB9IXzWRitHv"
      },
      "outputs": [],
      "source": [
        "import matplotlib.pyplot as plt\n",
        "import seaborn as sns\n",
        "import random\n",
        "import numpy as np\n",
        "import pandas as pd\n",
        "\n",
        "from sklearn.metrics import accuracy_score, confusion_matrix\n",
        "\n",
        "from tensorflow.keras.datasets import fashion_mnist\n",
        "from tensorflow.keras.layers import Input, Flatten\n",
        "from tensorflow.keras.optimizers import Adam\n",
        "from tensorflow.keras.metrics import Mean\n",
        "from tensorflow.data import Dataset\n",
        "import tensorflow as tf\n",
        "\n",
        "import utils\n",
        "from layers import FFDense\n",
        "from models import FFNetwork"
      ]
    },
    {
      "cell_type": "code",
      "execution_count": 3,
      "metadata": {
        "colab": {
          "base_uri": "https://localhost:8080/",
          "height": 792
        },
        "id": "knUI4fmJitHy",
        "outputId": "612cca23-eda4-44d1-fbc4-250de3c1c199"
      },
      "outputs": [
        {
          "output_type": "stream",
          "name": "stdout",
          "text": [
            "Downloading data from https://storage.googleapis.com/tensorflow/tf-keras-datasets/train-labels-idx1-ubyte.gz\n",
            "29515/29515 [==============================] - 0s 0us/step\n",
            "Downloading data from https://storage.googleapis.com/tensorflow/tf-keras-datasets/train-images-idx3-ubyte.gz\n",
            "26421880/26421880 [==============================] - 2s 0us/step\n",
            "Downloading data from https://storage.googleapis.com/tensorflow/tf-keras-datasets/t10k-labels-idx1-ubyte.gz\n",
            "5148/5148 [==============================] - 0s 0us/step\n",
            "Downloading data from https://storage.googleapis.com/tensorflow/tf-keras-datasets/t10k-images-idx3-ubyte.gz\n",
            "4422102/4422102 [==============================] - 0s 0us/step\n",
            "60000 training examples\n",
            "10000 testing examples\n"
          ]
        },
        {
          "output_type": "display_data",
          "data": {
            "text/plain": [
              "<Figure size 720x720 with 4 Axes>"
            ],
            "image/png": "[encoded data removed]"
          },
          "metadata": {
            "needs_background": "light"
          }
        }
      ],
      "source": [
        "class_names = ['T-shirt/top', 'Trouser', 'Pullover', 'Dress', 'Coat',\n",
        "               'Sandal', 'Shirt', 'Sneaker', 'Bag', 'Ankle boot']\n",
        "\n",
        "(x_train, y_train), (x_test, y_test) = fashion_mnist.load_data()\n",
        "x_train = x_train.astype(float) / 255\n",
        "x_test = x_test.astype(float) / 255\n",
        "y_train = y_train.astype(int)\n",
        "y_test = y_test.astype(int)\n",
        "\n",
        "print(f'{x_train.shape[0]} training examples\\n{x_test.shape[0]} testing examples')\n",
        "\n",
        "train_dataset = Dataset.from_tensor_slices((x_train, y_train))\n",
        "test_dataset = Dataset.from_tensor_slices((x_test, y_test))\n",
        "\n",
        "train_dataset = train_dataset.batch(60000)\n",
        "test_dataset = test_dataset.batch(10000)\n",
        "\n",
        "utils.show_samples(x_train, y_train, 4, class_names)"
      ]
    },
    {
      "cell_type": "markdown",
      "source": [
        "## Build and train the Forward-Foward model!"
      ],
      "metadata": {
        "id": "hwuryvyAqFVy"
      }
    },
    {
      "cell_type": "code",
      "execution_count": 4,
      "metadata": {
        "id": "1lVsc4GwitH0"
      },
      "outputs": [],
      "source": [
        "model = FFNetwork([784, 500, 500])\n",
        "\n",
        "model.compile(\n",
        "    optimizer=Adam(learning_rate=0.03),\n",
        "    loss=\"mse\",\n",
        "    jit_compile=True,\n",
        "    metrics=[Mean()],\n",
        ")"
      ]
    },
    {
      "cell_type": "code",
      "execution_count": 5,
      "metadata": {
        "colab": {
          "base_uri": "https://localhost:8080/"
        },
        "id": "PU885y9yitH0",
        "outputId": "0982be23-8cf4-4186-8af2-6a05dc77db24"
      },
      "outputs": [
        {
          "output_type": "stream",
          "name": "stdout",
          "text": [
            "Epoch 1/250\n",
            "Training layer 1 now : \n",
            "Training layer 2 now : \n",
            "Training layer 1 now : \n",
            "Training layer 2 now : \n",
            "1/1 [==============================] - 80s 80s/step - FinalLoss: 0.7223\n",
            "Epoch 2/250\n",
            "1/1 [==============================] - 6s 6s/step - FinalLoss: 0.7069\n",
            "Epoch 3/250\n",
            "1/1 [==============================] - 6s 6s/step - FinalLoss: 0.6926\n",
            "Epoch 4/250\n",
            "1/1 [==============================] - 6s 6s/step - FinalLoss: 0.6783\n",
            "Epoch 5/250\n",
            "1/1 [==============================] - 6s 6s/step - FinalLoss: 0.6653\n",
            "Epoch 6/250\n",
            "1/1 [==============================] - 6s 6s/step - FinalLoss: 0.6535\n",
            "Epoch 7/250\n",
            "1/1 [==============================] - 6s 6s/step - FinalLoss: 0.6432\n",
            "Epoch 8/250\n",
            "1/1 [==============================] - 6s 6s/step - FinalLoss: 0.6337\n",
            "Epoch 9/250\n",
            "1/1 [==============================] - 6s 6s/step - FinalLoss: 0.6252\n",
            "Epoch 10/250\n",
            "1/1 [==============================] - 6s 6s/step - FinalLoss: 0.6176\n",
            "Epoch 11/250\n",
            "1/1 [==============================] - 6s 6s/step - FinalLoss: 0.6105\n",
            "Epoch 12/250\n",
            "1/1 [==============================] - 6s 6s/step - FinalLoss: 0.6039\n",
            "Epoch 13/250\n",
            "1/1 [==============================] - 6s 6s/step - FinalLoss: 0.5977\n",
            "Epoch 14/250\n",
            "1/1 [==============================] - 6s 6s/step - FinalLoss: 0.5918\n",
            "Epoch 15/250\n",
            "1/1 [==============================] - 6s 6s/step - FinalLoss: 0.5862\n",
            "Epoch 16/250\n",
            "1/1 [==============================] - 6s 6s/step - FinalLoss: 0.5809\n",
            "Epoch 17/250\n",
            "1/1 [==============================] - 6s 6s/step - FinalLoss: 0.5758\n",
            "Epoch 18/250\n",
            "1/1 [==============================] - 6s 6s/step - FinalLoss: 0.5710\n",
            "Epoch 19/250\n",
            "1/1 [==============================] - 6s 6s/step - FinalLoss: 0.5664\n",
            "Epoch 20/250\n",
            "1/1 [==============================] - 6s 6s/step - FinalLoss: 0.5621\n",
            "Epoch 21/250\n",
            "1/1 [==============================] - 6s 6s/step - FinalLoss: 0.5580\n",
            "Epoch 22/250\n",
            "1/1 [==============================] - 6s 6s/step - FinalLoss: 0.5541\n",
            "Epoch 23/250\n",
            "1/1 [==============================] - 6s 6s/step - FinalLoss: 0.5503\n",
            "Epoch 24/250\n",
            "1/1 [==============================] - 6s 6s/step - FinalLoss: 0.5466\n",
            "Epoch 25/250\n",
            "1/1 [==============================] - 6s 6s/step - FinalLoss: 0.5431\n",
            "Epoch 26/250\n",
            "1/1 [==============================] - 6s 6s/step - FinalLoss: 0.5396\n",
            "Epoch 27/250\n",
            "1/1 [==============================] - 6s 6s/step - FinalLoss: 0.5363\n",
            "Epoch 28/250\n",
            "1/1 [==============================] - 6s 6s/step - FinalLoss: 0.5330\n",
            "Epoch 29/250\n",
            "1/1 [==============================] - 6s 6s/step - FinalLoss: 0.5299\n",
            "Epoch 30/250\n",
            "1/1 [==============================] - 6s 6s/step - FinalLoss: 0.5268\n",
            "Epoch 31/250\n",
            "1/1 [==============================] - 6s 6s/step - FinalLoss: 0.5239\n",
            "Epoch 32/250\n",
            "1/1 [==============================] - 6s 6s/step - FinalLoss: 0.5210\n",
            "Epoch 33/250\n",
            "1/1 [==============================] - 6s 6s/step - FinalLoss: 0.5182\n",
            "Epoch 34/250\n",
            "1/1 [==============================] - 6s 6s/step - FinalLoss: 0.5155\n",
            "Epoch 35/250\n",
            "1/1 [==============================] - 6s 6s/step - FinalLoss: 0.5129\n",
            "Epoch 36/250\n",
            "1/1 [==============================] - 6s 6s/step - FinalLoss: 0.5104\n",
            "Epoch 37/250\n",
            "1/1 [==============================] - 6s 6s/step - FinalLoss: 0.5079\n",
            "Epoch 38/250\n",
            "1/1 [==============================] - 6s 6s/step - FinalLoss: 0.5056\n",
            "Epoch 39/250\n",
            "1/1 [==============================] - 6s 6s/step - FinalLoss: 0.5033\n",
            "Epoch 40/250\n",
            "1/1 [==============================] - 6s 6s/step - FinalLoss: 0.5010\n",
            "Epoch 41/250\n",
            "1/1 [==============================] - 6s 6s/step - FinalLoss: 0.4988\n",
            "Epoch 42/250\n",
            "1/1 [==============================] - 6s 6s/step - FinalLoss: 0.4966\n",
            "Epoch 43/250\n",
            "1/1 [==============================] - 6s 6s/step - FinalLoss: 0.4945\n",
            "Epoch 44/250\n",
            "1/1 [==============================] - 6s 6s/step - FinalLoss: 0.4924\n",
            "Epoch 45/250\n",
            "1/1 [==============================] - 6s 6s/step - FinalLoss: 0.4904\n",
            "Epoch 46/250\n",
            "1/1 [==============================] - 6s 6s/step - FinalLoss: 0.4885\n",
            "Epoch 47/250\n",
            "1/1 [==============================] - 6s 6s/step - FinalLoss: 0.4866\n",
            "Epoch 48/250\n",
            "1/1 [==============================] - 6s 6s/step - FinalLoss: 0.4847\n",
            "Epoch 49/250\n",
            "1/1 [==============================] - 6s 6s/step - FinalLoss: 0.4830\n",
            "Epoch 50/250\n",
            "1/1 [==============================] - 6s 6s/step - FinalLoss: 0.4812\n",
            "Epoch 51/250\n",
            "1/1 [==============================] - 6s 6s/step - FinalLoss: 0.4795\n",
            "Epoch 52/250\n",
            "1/1 [==============================] - 6s 6s/step - FinalLoss: 0.4778\n",
            "Epoch 53/250\n",
            "1/1 [==============================] - 6s 6s/step - FinalLoss: 0.4761\n",
            "Epoch 54/250\n",
            "1/1 [==============================] - 6s 6s/step - FinalLoss: 0.4745\n",
            "Epoch 55/250\n",
            "1/1 [==============================] - 6s 6s/step - FinalLoss: 0.4729\n",
            "Epoch 56/250\n",
            "1/1 [==============================] - 6s 6s/step - FinalLoss: 0.4713\n",
            "Epoch 57/250\n",
            "1/1 [==============================] - 6s 6s/step - FinalLoss: 0.4698\n",
            "Epoch 58/250\n",
            "1/1 [==============================] - 6s 6s/step - FinalLoss: 0.4683\n",
            "Epoch 59/250\n",
            "1/1 [==============================] - 6s 6s/step - FinalLoss: 0.4669\n",
            "Epoch 60/250\n",
            "1/1 [==============================] - 6s 6s/step - FinalLoss: 0.4654\n",
            "Epoch 61/250\n",
            "1/1 [==============================] - 6s 6s/step - FinalLoss: 0.4641\n",
            "Epoch 62/250\n",
            "1/1 [==============================] - 6s 6s/step - FinalLoss: 0.4627\n",
            "Epoch 63/250\n",
            "1/1 [==============================] - 6s 6s/step - FinalLoss: 0.4613\n",
            "Epoch 64/250\n",
            "1/1 [==============================] - 6s 6s/step - FinalLoss: 0.4600\n",
            "Epoch 65/250\n",
            "1/1 [==============================] - 6s 6s/step - FinalLoss: 0.4587\n",
            "Epoch 66/250\n",
            "1/1 [==============================] - 6s 6s/step - FinalLoss: 0.4575\n",
            "Epoch 67/250\n",
            "1/1 [==============================] - 6s 6s/step - FinalLoss: 0.4562\n",
            "Epoch 68/250\n",
            "1/1 [==============================] - 6s 6s/step - FinalLoss: 0.4550\n",
            "Epoch 69/250\n",
            "1/1 [==============================] - 6s 6s/step - FinalLoss: 0.4537\n",
            "Epoch 70/250\n",
            "1/1 [==============================] - 6s 6s/step - FinalLoss: 0.4526\n",
            "Epoch 71/250\n",
            "1/1 [==============================] - 6s 6s/step - FinalLoss: 0.4514\n",
            "Epoch 72/250\n",
            "1/1 [==============================] - 6s 6s/step - FinalLoss: 0.4503\n",
            "Epoch 73/250\n",
            "1/1 [==============================] - 6s 6s/step - FinalLoss: 0.4491\n",
            "Epoch 74/250\n",
            "1/1 [==============================] - 6s 6s/step - FinalLoss: 0.4480\n",
            "Epoch 75/250\n",
            "1/1 [==============================] - 6s 6s/step - FinalLoss: 0.4469\n",
            "Epoch 76/250\n",
            "1/1 [==============================] - 6s 6s/step - FinalLoss: 0.4459\n",
            "Epoch 77/250\n",
            "1/1 [==============================] - 6s 6s/step - FinalLoss: 0.4448\n",
            "Epoch 78/250\n",
            "1/1 [==============================] - 6s 6s/step - FinalLoss: 0.4437\n",
            "Epoch 79/250\n",
            "1/1 [==============================] - 6s 6s/step - FinalLoss: 0.4427\n",
            "Epoch 80/250\n",
            "1/1 [==============================] - 6s 6s/step - FinalLoss: 0.4417\n",
            "Epoch 81/250\n",
            "1/1 [==============================] - 6s 6s/step - FinalLoss: 0.4407\n",
            "Epoch 82/250\n",
            "1/1 [==============================] - 6s 6s/step - FinalLoss: 0.4397\n",
            "Epoch 83/250\n",
            "1/1 [==============================] - 6s 6s/step - FinalLoss: 0.4387\n",
            "Epoch 84/250\n",
            "1/1 [==============================] - 6s 6s/step - FinalLoss: 0.4378\n",
            "Epoch 85/250\n",
            "1/1 [==============================] - 6s 6s/step - FinalLoss: 0.4368\n",
            "Epoch 86/250\n",
            "1/1 [==============================] - 6s 6s/step - FinalLoss: 0.4359\n",
            "Epoch 87/250\n",
            "1/1 [==============================] - 6s 6s/step - FinalLoss: 0.4349\n",
            "Epoch 88/250\n",
            "1/1 [==============================] - 6s 6s/step - FinalLoss: 0.4341\n",
            "Epoch 89/250\n",
            "1/1 [==============================] - 6s 6s/step - FinalLoss: 0.4332\n",
            "Epoch 90/250\n",
            "1/1 [==============================] - 6s 6s/step - FinalLoss: 0.4323\n",
            "Epoch 91/250\n",
            "1/1 [==============================] - 6s 6s/step - FinalLoss: 0.4314\n",
            "Epoch 92/250\n",
            "1/1 [==============================] - 6s 6s/step - FinalLoss: 0.4306\n",
            "Epoch 93/250\n",
            "1/1 [==============================] - 6s 6s/step - FinalLoss: 0.4297\n",
            "Epoch 94/250\n",
            "1/1 [==============================] - 6s 6s/step - FinalLoss: 0.4289\n",
            "Epoch 95/250\n",
            "1/1 [==============================] - 6s 6s/step - FinalLoss: 0.4280\n",
            "Epoch 96/250\n",
            "1/1 [==============================] - 6s 6s/step - FinalLoss: 0.4272\n",
            "Epoch 97/250\n",
            "1/1 [==============================] - 6s 6s/step - FinalLoss: 0.4264\n",
            "Epoch 98/250\n",
            "1/1 [==============================] - 6s 6s/step - FinalLoss: 0.4256\n",
            "Epoch 99/250\n",
            "1/1 [==============================] - 6s 6s/step - FinalLoss: 0.4248\n",
            "Epoch 100/250\n",
            "1/1 [==============================] - 6s 6s/step - FinalLoss: 0.4240\n",
            "Epoch 101/250\n",
            "1/1 [==============================] - 6s 6s/step - FinalLoss: 0.4233\n",
            "Epoch 102/250\n",
            "1/1 [==============================] - 6s 6s/step - FinalLoss: 0.4225\n",
            "Epoch 103/250\n",
            "1/1 [==============================] - 6s 6s/step - FinalLoss: 0.4217\n",
            "Epoch 104/250\n",
            "1/1 [==============================] - 6s 6s/step - FinalLoss: 0.4210\n",
            "Epoch 105/250\n",
            "1/1 [==============================] - 6s 6s/step - FinalLoss: 0.4203\n",
            "Epoch 106/250\n",
            "1/1 [==============================] - 6s 6s/step - FinalLoss: 0.4195\n",
            "Epoch 107/250\n",
            "1/1 [==============================] - 6s 6s/step - FinalLoss: 0.4188\n",
            "Epoch 108/250\n",
            "1/1 [==============================] - 6s 6s/step - FinalLoss: 0.4181\n",
            "Epoch 109/250\n",
            "1/1 [==============================] - 6s 6s/step - FinalLoss: 0.4174\n",
            "Epoch 110/250\n",
            "1/1 [==============================] - 6s 6s/step - FinalLoss: 0.4167\n",
            "Epoch 111/250\n",
            "1/1 [==============================] - 6s 6s/step - FinalLoss: 0.4160\n",
            "Epoch 112/250\n",
            "1/1 [==============================] - 6s 6s/step - FinalLoss: 0.4153\n",
            "Epoch 113/250\n",
            "1/1 [==============================] - 6s 6s/step - FinalLoss: 0.4147\n",
            "Epoch 114/250\n",
            "1/1 [==============================] - 6s 6s/step - FinalLoss: 0.4140\n",
            "Epoch 115/250\n",
            "1/1 [==============================] - 6s 6s/step - FinalLoss: 0.4134\n",
            "Epoch 116/250\n",
            "1/1 [==============================] - 6s 6s/step - FinalLoss: 0.4127\n",
            "Epoch 117/250\n",
            "1/1 [==============================] - 6s 6s/step - FinalLoss: 0.4121\n",
            "Epoch 118/250\n",
            "1/1 [==============================] - 6s 6s/step - FinalLoss: 0.4114\n",
            "Epoch 119/250\n",
            "1/1 [==============================] - 6s 6s/step - FinalLoss: 0.4108\n",
            "Epoch 120/250\n",
            "1/1 [==============================] - 6s 6s/step - FinalLoss: 0.4102\n",
            "Epoch 121/250\n",
            "1/1 [==============================] - 6s 6s/step - FinalLoss: 0.4096\n",
            "Epoch 122/250\n",
            "1/1 [==============================] - 6s 6s/step - FinalLoss: 0.4089\n",
            "Epoch 123/250\n",
            "1/1 [==============================] - 6s 6s/step - FinalLoss: 0.4083\n",
            "Epoch 124/250\n",
            "1/1 [==============================] - 6s 6s/step - FinalLoss: 0.4077\n",
            "Epoch 125/250\n",
            "1/1 [==============================] - 6s 6s/step - FinalLoss: 0.4071\n",
            "Epoch 126/250\n",
            "1/1 [==============================] - 6s 6s/step - FinalLoss: 0.4066\n",
            "Epoch 127/250\n",
            "1/1 [==============================] - 6s 6s/step - FinalLoss: 0.4060\n",
            "Epoch 128/250\n",
            "1/1 [==============================] - 6s 6s/step - FinalLoss: 0.4054\n",
            "Epoch 129/250\n",
            "1/1 [==============================] - 6s 6s/step - FinalLoss: 0.4048\n",
            "Epoch 130/250\n",
            "1/1 [==============================] - 6s 6s/step - FinalLoss: 0.4043\n",
            "Epoch 131/250\n",
            "1/1 [==============================] - 6s 6s/step - FinalLoss: 0.4037\n",
            "Epoch 132/250\n",
            "1/1 [==============================] - 6s 6s/step - FinalLoss: 0.4032\n",
            "Epoch 133/250\n",
            "1/1 [==============================] - 6s 6s/step - FinalLoss: 0.4026\n",
            "Epoch 134/250\n",
            "1/1 [==============================] - 6s 6s/step - FinalLoss: 0.4021\n",
            "Epoch 135/250\n",
            "1/1 [==============================] - 6s 6s/step - FinalLoss: 0.4015\n",
            "Epoch 136/250\n",
            "1/1 [==============================] - 6s 6s/step - FinalLoss: 0.4010\n",
            "Epoch 137/250\n",
            "1/1 [==============================] - 6s 6s/step - FinalLoss: 0.4005\n",
            "Epoch 138/250\n",
            "1/1 [==============================] - 6s 6s/step - FinalLoss: 0.4000\n",
            "Epoch 139/250\n",
            "1/1 [==============================] - 6s 6s/step - FinalLoss: 0.3995\n",
            "Epoch 140/250\n",
            "1/1 [==============================] - 6s 6s/step - FinalLoss: 0.3990\n",
            "Epoch 141/250\n",
            "1/1 [==============================] - 6s 6s/step - FinalLoss: 0.3985\n",
            "Epoch 142/250\n",
            "1/1 [==============================] - 6s 6s/step - FinalLoss: 0.3980\n",
            "Epoch 143/250\n",
            "1/1 [==============================] - 6s 6s/step - FinalLoss: 0.3975\n",
            "Epoch 144/250\n",
            "1/1 [==============================] - 6s 6s/step - FinalLoss: 0.3970\n",
            "Epoch 145/250\n",
            "1/1 [==============================] - 6s 6s/step - FinalLoss: 0.3965\n",
            "Epoch 146/250\n",
            "1/1 [==============================] - 6s 6s/step - FinalLoss: 0.3961\n",
            "Epoch 147/250\n",
            "1/1 [==============================] - 6s 6s/step - FinalLoss: 0.3956\n",
            "Epoch 148/250\n",
            "1/1 [==============================] - 6s 6s/step - FinalLoss: 0.3951\n",
            "Epoch 149/250\n",
            "1/1 [==============================] - 6s 6s/step - FinalLoss: 0.3946\n",
            "Epoch 150/250\n",
            "1/1 [==============================] - 6s 6s/step - FinalLoss: 0.3942\n",
            "Epoch 151/250\n",
            "1/1 [==============================] - 6s 6s/step - FinalLoss: 0.3937\n",
            "Epoch 152/250\n",
            "1/1 [==============================] - 6s 6s/step - FinalLoss: 0.3933\n",
            "Epoch 153/250\n",
            "1/1 [==============================] - 6s 6s/step - FinalLoss: 0.3928\n",
            "Epoch 154/250\n",
            "1/1 [==============================] - 6s 6s/step - FinalLoss: 0.3924\n",
            "Epoch 155/250\n",
            "1/1 [==============================] - 6s 6s/step - FinalLoss: 0.3919\n",
            "Epoch 156/250\n",
            "1/1 [==============================] - 6s 6s/step - FinalLoss: 0.3915\n",
            "Epoch 157/250\n",
            "1/1 [==============================] - 6s 6s/step - FinalLoss: 0.3911\n",
            "Epoch 158/250\n",
            "1/1 [==============================] - 6s 6s/step - FinalLoss: 0.3906\n",
            "Epoch 159/250\n",
            "1/1 [==============================] - 6s 6s/step - FinalLoss: 0.3902\n",
            "Epoch 160/250\n",
            "1/1 [==============================] - 6s 6s/step - FinalLoss: 0.3898\n",
            "Epoch 161/250\n",
            "1/1 [==============================] - 6s 6s/step - FinalLoss: 0.3893\n",
            "Epoch 162/250\n",
            "1/1 [==============================] - 6s 6s/step - FinalLoss: 0.3889\n",
            "Epoch 163/250\n",
            "1/1 [==============================] - 6s 6s/step - FinalLoss: 0.3885\n",
            "Epoch 164/250\n",
            "1/1 [==============================] - 6s 6s/step - FinalLoss: 0.3881\n",
            "Epoch 165/250\n",
            "1/1 [==============================] - 6s 6s/step - FinalLoss: 0.3877\n",
            "Epoch 166/250\n",
            "1/1 [==============================] - 6s 6s/step - FinalLoss: 0.3873\n",
            "Epoch 167/250\n",
            "1/1 [==============================] - 6s 6s/step - FinalLoss: 0.3869\n",
            "Epoch 168/250\n",
            "1/1 [==============================] - 6s 6s/step - FinalLoss: 0.3865\n",
            "Epoch 169/250\n",
            "1/1 [==============================] - 6s 6s/step - FinalLoss: 0.3861\n",
            "Epoch 170/250\n",
            "1/1 [==============================] - 6s 6s/step - FinalLoss: 0.3857\n",
            "Epoch 171/250\n",
            "1/1 [==============================] - 6s 6s/step - FinalLoss: 0.3853\n",
            "Epoch 172/250\n",
            "1/1 [==============================] - 6s 6s/step - FinalLoss: 0.3849\n",
            "Epoch 173/250\n",
            "1/1 [==============================] - 6s 6s/step - FinalLoss: 0.3845\n",
            "Epoch 174/250\n",
            "1/1 [==============================] - 6s 6s/step - FinalLoss: 0.3842\n",
            "Epoch 175/250\n",
            "1/1 [==============================] - 6s 6s/step - FinalLoss: 0.3838\n",
            "Epoch 176/250\n",
            "1/1 [==============================] - 6s 6s/step - FinalLoss: 0.3834\n",
            "Epoch 177/250\n",
            "1/1 [==============================] - 6s 6s/step - FinalLoss: 0.3831\n",
            "Epoch 178/250\n",
            "1/1 [==============================] - 6s 6s/step - FinalLoss: 0.3827\n",
            "Epoch 179/250\n",
            "1/1 [==============================] - 6s 6s/step - FinalLoss: 0.3823\n",
            "Epoch 180/250\n",
            "1/1 [==============================] - 6s 6s/step - FinalLoss: 0.3820\n",
            "Epoch 181/250\n",
            "1/1 [==============================] - 6s 6s/step - FinalLoss: 0.3816\n",
            "Epoch 182/250\n",
            "1/1 [==============================] - 6s 6s/step - FinalLoss: 0.3812\n",
            "Epoch 183/250\n",
            "1/1 [==============================] - 6s 6s/step - FinalLoss: 0.3809\n",
            "Epoch 184/250\n",
            "1/1 [==============================] - 6s 6s/step - FinalLoss: 0.3806\n",
            "Epoch 185/250\n",
            "1/1 [==============================] - 6s 6s/step - FinalLoss: 0.3802\n",
            "Epoch 186/250\n",
            "1/1 [==============================] - 6s 6s/step - FinalLoss: 0.3798\n",
            "Epoch 187/250\n",
            "1/1 [==============================] - 6s 6s/step - FinalLoss: 0.3795\n",
            "Epoch 188/250\n",
            "1/1 [==============================] - 6s 6s/step - FinalLoss: 0.3792\n",
            "Epoch 189/250\n",
            "1/1 [==============================] - 6s 6s/step - FinalLoss: 0.3788\n",
            "Epoch 190/250\n",
            "1/1 [==============================] - 6s 6s/step - FinalLoss: 0.3785\n",
            "Epoch 191/250\n",
            "1/1 [==============================] - 6s 6s/step - FinalLoss: 0.3782\n",
            "Epoch 192/250\n",
            "1/1 [==============================] - 6s 6s/step - FinalLoss: 0.3778\n",
            "Epoch 193/250\n",
            "1/1 [==============================] - 6s 6s/step - FinalLoss: 0.3775\n",
            "Epoch 194/250\n",
            "1/1 [==============================] - 6s 6s/step - FinalLoss: 0.3772\n",
            "Epoch 195/250\n",
            "1/1 [==============================] - 6s 6s/step - FinalLoss: 0.3769\n",
            "Epoch 196/250\n",
            "1/1 [==============================] - 6s 6s/step - FinalLoss: 0.3765\n",
            "Epoch 197/250\n",
            "1/1 [==============================] - 6s 6s/step - FinalLoss: 0.3762\n",
            "Epoch 198/250\n",
            "1/1 [==============================] - 6s 6s/step - FinalLoss: 0.3759\n",
            "Epoch 199/250\n",
            "1/1 [==============================] - 6s 6s/step - FinalLoss: 0.3756\n",
            "Epoch 200/250\n",
            "1/1 [==============================] - 6s 6s/step - FinalLoss: 0.3753\n",
            "Epoch 201/250\n",
            "1/1 [==============================] - 6s 6s/step - FinalLoss: 0.3750\n",
            "Epoch 202/250\n",
            "1/1 [==============================] - 6s 6s/step - FinalLoss: 0.3747\n",
            "Epoch 203/250\n",
            "1/1 [==============================] - 6s 6s/step - FinalLoss: 0.3744\n",
            "Epoch 204/250\n",
            "1/1 [==============================] - 6s 6s/step - FinalLoss: 0.3741\n",
            "Epoch 205/250\n",
            "1/1 [==============================] - 6s 6s/step - FinalLoss: 0.3738\n",
            "Epoch 206/250\n",
            "1/1 [==============================] - 6s 6s/step - FinalLoss: 0.3735\n",
            "Epoch 207/250\n",
            "1/1 [==============================] - 6s 6s/step - FinalLoss: 0.3732\n",
            "Epoch 208/250\n",
            "1/1 [==============================] - 6s 6s/step - FinalLoss: 0.3729\n",
            "Epoch 209/250\n",
            "1/1 [==============================] - 6s 6s/step - FinalLoss: 0.3726\n",
            "Epoch 210/250\n",
            "1/1 [==============================] - 6s 6s/step - FinalLoss: 0.3723\n",
            "Epoch 211/250\n",
            "1/1 [==============================] - 6s 6s/step - FinalLoss: 0.3720\n",
            "Epoch 212/250\n",
            "1/1 [==============================] - 6s 6s/step - FinalLoss: 0.3717\n",
            "Epoch 213/250\n",
            "1/1 [==============================] - 6s 6s/step - FinalLoss: 0.3715\n",
            "Epoch 214/250\n",
            "1/1 [==============================] - 6s 6s/step - FinalLoss: 0.3712\n",
            "Epoch 215/250\n",
            "1/1 [==============================] - 6s 6s/step - FinalLoss: 0.3709\n",
            "Epoch 216/250\n",
            "1/1 [==============================] - 6s 6s/step - FinalLoss: 0.3706\n",
            "Epoch 217/250\n",
            "1/1 [==============================] - 6s 6s/step - FinalLoss: 0.3703\n",
            "Epoch 218/250\n",
            "1/1 [==============================] - 6s 6s/step - FinalLoss: 0.3700\n",
            "Epoch 219/250\n",
            "1/1 [==============================] - 6s 6s/step - FinalLoss: 0.3698\n",
            "Epoch 220/250\n",
            "1/1 [==============================] - 6s 6s/step - FinalLoss: 0.3695\n",
            "Epoch 221/250\n",
            "1/1 [==============================] - 6s 6s/step - FinalLoss: 0.3692\n",
            "Epoch 222/250\n",
            "1/1 [==============================] - 6s 6s/step - FinalLoss: 0.3690\n",
            "Epoch 223/250\n",
            "1/1 [==============================] - 6s 6s/step - FinalLoss: 0.3687\n",
            "Epoch 224/250\n",
            "1/1 [==============================] - 6s 6s/step - FinalLoss: 0.3684\n",
            "Epoch 225/250\n",
            "1/1 [==============================] - 6s 6s/step - FinalLoss: 0.3682\n",
            "Epoch 226/250\n",
            "1/1 [==============================] - 6s 6s/step - FinalLoss: 0.3679\n",
            "Epoch 227/250\n",
            "1/1 [==============================] - 6s 6s/step - FinalLoss: 0.3676\n",
            "Epoch 228/250\n",
            "1/1 [==============================] - 6s 6s/step - FinalLoss: 0.3674\n",
            "Epoch 229/250\n",
            "1/1 [==============================] - 6s 6s/step - FinalLoss: 0.3671\n",
            "Epoch 230/250\n",
            "1/1 [==============================] - 6s 6s/step - FinalLoss: 0.3669\n",
            "Epoch 231/250\n",
            "1/1 [==============================] - 6s 6s/step - FinalLoss: 0.3666\n",
            "Epoch 232/250\n",
            "1/1 [==============================] - 6s 6s/step - FinalLoss: 0.3664\n",
            "Epoch 233/250\n",
            "1/1 [==============================] - 6s 6s/step - FinalLoss: 0.3661\n",
            "Epoch 234/250\n",
            "1/1 [==============================] - 6s 6s/step - FinalLoss: 0.3659\n",
            "Epoch 235/250\n",
            "1/1 [==============================] - 6s 6s/step - FinalLoss: 0.3656\n",
            "Epoch 236/250\n",
            "1/1 [==============================] - 6s 6s/step - FinalLoss: 0.3654\n",
            "Epoch 237/250\n",
            "1/1 [==============================] - 6s 6s/step - FinalLoss: 0.3651\n",
            "Epoch 238/250\n",
            "1/1 [==============================] - 6s 6s/step - FinalLoss: 0.3649\n",
            "Epoch 239/250\n",
            "1/1 [==============================] - 6s 6s/step - FinalLoss: 0.3646\n",
            "Epoch 240/250\n",
            "1/1 [==============================] - 6s 6s/step - FinalLoss: 0.3644\n",
            "Epoch 241/250\n",
            "1/1 [==============================] - 6s 6s/step - FinalLoss: 0.3642\n",
            "Epoch 242/250\n",
            "1/1 [==============================] - 6s 6s/step - FinalLoss: 0.3639\n",
            "Epoch 243/250\n",
            "1/1 [==============================] - 6s 6s/step - FinalLoss: 0.3637\n",
            "Epoch 244/250\n",
            "1/1 [==============================] - 6s 6s/step - FinalLoss: 0.3635\n",
            "Epoch 245/250\n",
            "1/1 [==============================] - 6s 6s/step - FinalLoss: 0.3632\n",
            "Epoch 246/250\n",
            "1/1 [==============================] - 6s 6s/step - FinalLoss: 0.3630\n",
            "Epoch 247/250\n",
            "1/1 [==============================] - 6s 6s/step - FinalLoss: 0.3628\n",
            "Epoch 248/250\n",
            "1/1 [==============================] - 6s 6s/step - FinalLoss: 0.3626\n",
            "Epoch 249/250\n",
            "1/1 [==============================] - 6s 6s/step - FinalLoss: 0.3623\n",
            "Epoch 250/250\n",
            "1/1 [==============================] - 6s 6s/step - FinalLoss: 0.3621\n"
          ]
        }
      ],
      "source": [
        "history = model.fit(train_dataset, epochs=250, verbose=1)"
      ]
    },
    {
      "cell_type": "markdown",
      "source": [
        "## Model Evaluation"
      ],
      "metadata": {
        "id": "aTFYyzCIo6AK"
      }
    },
    {
      "cell_type": "code",
      "source": [
        "preds = model.predict(tf.convert_to_tensor(x_test))\n",
        "preds = preds.reshape((preds.shape[0], preds.shape[1]))\n",
        "results = accuracy_score(preds, y_test)\n",
        "print(f\"Test Accuracy score : {results*100}%\")\n",
        "\n",
        "plt.plot(range(len(history.history[\"FinalLoss\"])), history.history[\"FinalLoss\"])\n",
        "plt.title(\"Loss over training\")\n",
        "plt.show()"
      ],
      "metadata": {
        "colab": {
          "base_uri": "https://localhost:8080/",
          "height": 299
        },
        "id": "0_03mOx3nGNw",
        "outputId": "5f22208f-11f1-43ad-c713-08cab21d962f"
      },
      "execution_count": 6,
      "outputs": [
        {
          "output_type": "stream",
          "name": "stdout",
          "text": [
            "Test Accuracy score : 88.35%\n"
          ]
        },
        {
          "output_type": "display_data",
          "data": {
            "text/plain": [
              "<Figure size 432x288 with 1 Axes>"
            ],
            "image/png": "[encoded data removed]"
          },
          "metadata": {
            "needs_background": "light"
          }
        }
      ]
    },
    {
      "cell_type": "code",
      "source": [
        "plt.figure(figsize=(10, 10))\n",
        "cm = confusion_matrix(preds, y_test)\n",
        "sns.heatmap(cm, \n",
        "            annot=True, \n",
        "            fmt='2d', \n",
        "            cbar=False, \n",
        "            cmap='rocket', \n",
        "            xticklabels=class_names,\n",
        "            yticklabels=class_names)\n",
        "plt.title('Confusion Matrix')\n",
        "plt.show()"
      ],
      "metadata": {
        "id": "TjI4WCOFo_bl",
        "outputId": "7e11ca06-6868-4e31-ad6b-bbc08173e608",
        "colab": {
          "base_uri": "https://localhost:8080/",
          "height": 607
        }
      },
      "execution_count": 7,
      "outputs": [
        {
          "output_type": "display_data",
          "data": {
            "text/plain": [
              "<Figure size 720x720 with 1 Axes>"
            ],
            "image/png": "[encoded data removed]"
          },
          "metadata": {
            "needs_background": "light"
          }
        }
      ]
    },
    {
      "cell_type": "markdown",
      "source": [
        "### Looking at the errors"
      ],
      "metadata": {
        "id": "BnqLaBXQimyD"
      }
    },
    {
      "cell_type": "markdown",
      "source": [
        "We can just make a dataframe of all the mismatches, the predicted and actual labels, and sort them"
      ],
      "metadata": {
        "id": "VUwvzZTImGii"
      }
    },
    {
      "cell_type": "code",
      "source": [
        "y_hat = np.squeeze(preds)\n",
        "misses_df = pd.DataFrame(columns=['Predicted', 'Actual'])\n",
        "misses_df['Predicted'] = y_hat\n",
        "misses_df['Actual'] = y_test\n",
        "cond = misses_df['Predicted'] != misses_df['Actual']\n",
        "misses_df = misses_df[cond]\n",
        "misses_df = misses_df.sort_values(by=['Predicted', 'Actual'])\n",
        "misses_df.reset_index(inplace=True)\n",
        "misses_df = misses_df.rename(columns = {'index':'Example'})\n",
        "\n",
        "misses_df"
      ],
      "metadata": {
        "id": "hfrSt_Dde1PN",
        "outputId": "bb3a54d9-328f-4643-a0d6-1a1b848d64a2",
        "colab": {
          "base_uri": "https://localhost:8080/",
          "height": 423
        }
      },
      "execution_count": 8,
      "outputs": [
        {
          "output_type": "execute_result",
          "data": {
            "text/plain": [
              "      Example  Predicted  Actual\n",
              "0        9071          0       1\n",
              "1        9450          0       1\n",
              "2        9485          0       1\n",
              "3         382          0       2\n",
              "4         732          0       2\n",
              "...       ...        ...     ...\n",
              "1160     5520          9       7\n",
              "1161     6085          9       7\n",
              "1162     6300          9       7\n",
              "1163     6701          9       7\n",
              "1164     6868          9       7\n",
              "\n",
              "[1165 rows x 3 columns]"
            ],
            "text/html": [
              "\n",
              "  <div id=\"df-f6db593b-3607-4484-a891-4bceb2bab8be\">\n",
              "    <div class=\"colab-df-container\">\n",
              "      <div>\n",
              "<style scoped>\n",
              "    .dataframe tbody tr th:only-of-type {\n",
              "        vertical-align: middle;\n",
              "    }\n",
              "\n",
              "    .dataframe tbody tr th {\n",
              "        vertical-align: top;\n",
              "    }\n",
              "\n",
              "    .dataframe thead th {\n",
              "        text-align: right;\n",
              "    }\n",
              "</style>\n",
              "<table border=\"1\" class=\"dataframe\">\n",
              "  <thead>\n",
              "    <tr style=\"text-align: right;\">\n",
              "      <th></th>\n",
              "      <th>Example</th>\n",
              "      <th>Predicted</th>\n",
              "      <th>Actual</th>\n",
              "    </tr>\n",
              "  </thead>\n",
              "  <tbody>\n",
              "    <tr>\n",
              "      <th>0</th>\n",
              "      <td>9071</td>\n",
              "      <td>0</td>\n",
              "      <td>1</td>\n",
              "    </tr>\n",
              "    <tr>\n",
              "      <th>1</th>\n",
              "      <td>9450</td>\n",
              "      <td>0</td>\n",
              "      <td>1</td>\n",
              "    </tr>\n",
              "    <tr>\n",
              "      <th>2</th>\n",
              "      <td>9485</td>\n",
              "      <td>0</td>\n",
              "      <td>1</td>\n",
              "    </tr>\n",
              "    <tr>\n",
              "      <th>3</th>\n",
              "      <td>382</td>\n",
              "      <td>0</td>\n",
              "      <td>2</td>\n",
              "    </tr>\n",
              "    <tr>\n",
              "      <th>4</th>\n",
              "      <td>732</td>\n",
              "      <td>0</td>\n",
              "      <td>2</td>\n",
              "    </tr>\n",
              "    <tr>\n",
              "      <th>...</th>\n",
              "      <td>...</td>\n",
              "      <td>...</td>\n",
              "      <td>...</td>\n",
              "    </tr>\n",
              "    <tr>\n",
              "      <th>1160</th>\n",
              "      <td>5520</td>\n",
              "      <td>9</td>\n",
              "      <td>7</td>\n",
              "    </tr>\n",
              "    <tr>\n",
              "      <th>1161</th>\n",
              "      <td>6085</td>\n",
              "      <td>9</td>\n",
              "      <td>7</td>\n",
              "    </tr>\n",
              "    <tr>\n",
              "      <th>1162</th>\n",
              "      <td>6300</td>\n",
              "      <td>9</td>\n",
              "      <td>7</td>\n",
              "    </tr>\n",
              "    <tr>\n",
              "      <th>1163</th>\n",
              "      <td>6701</td>\n",
              "      <td>9</td>\n",
              "      <td>7</td>\n",
              "    </tr>\n",
              "    <tr>\n",
              "      <th>1164</th>\n",
              "      <td>6868</td>\n",
              "      <td>9</td>\n",
              "      <td>7</td>\n",
              "    </tr>\n",
              "  </tbody>\n",
              "</table>\n",
              "<p>1165 rows × 3 columns</p>\n",
              "</div>\n",
              "      <button class=\"colab-df-convert\" onclick=\"convertToInteractive('df-f6db593b-3607-4484-a891-4bceb2bab8be')\"\n",
              "              title=\"Convert this dataframe to an interactive table.\"\n",
              "              style=\"display:none;\">\n",
              "        \n",
              "  <svg xmlns=\"http://www.w3.org/2000/svg\" height=\"24px\"viewBox=\"0 0 24 24\"\n",
              "       width=\"24px\">\n",
              "    <path d=\"M0 0h24v24H0V0z\" fill=\"none\"/>\n",
              "    <path d=\"M18.56 5.44l.94 2.06.94-2.06 2.06-.94-2.06-.94-.94-2.06-.94 2.06-2.06.94zm-11 1L8.5 8.5l.94-2.06 2.06-.94-2.06-.94L8.5 2.5l-.94 2.06-2.06.94zm10 10l.94 2.06.94-2.06 2.06-.94-2.06-.94-.94-2.06-.94 2.06-2.06.94z\"/><path d=\"M17.41 7.96l-1.37-1.37c-.4-.4-.92-.59-1.43-.59-.52 0-1.04.2-1.43.59L10.3 9.45l-7.72 7.72c-.78.78-.78 2.05 0 2.83L4 21.41c.39.39.9.59 1.41.59.51 0 1.02-.2 1.41-.59l7.78-7.78 2.81-2.81c.8-.78.8-2.07 0-2.86zM5.41 20L4 18.59l7.72-7.72 1.47 1.35L5.41 20z\"/>\n",
              "  </svg>\n",
              "      </button>\n",
              "      \n",
              "  <style>\n",
              "    .colab-df-container {\n",
              "      display:flex;\n",
              "      flex-wrap:wrap;\n",
              "      gap: 12px;\n",
              "    }\n",
              "\n",
              "    .colab-df-convert {\n",
              "      background-color: #E8F0FE;\n",
              "      border: none;\n",
              "      border-radius: 50%;\n",
              "      cursor: pointer;\n",
              "      display: none;\n",
              "      fill: #1967D2;\n",
              "      height: 32px;\n",
              "      padding: 0 0 0 0;\n",
              "      width: 32px;\n",
              "    }\n",
              "\n",
              "    .colab-df-convert:hover {\n",
              "      background-color: #E2EBFA;\n",
              "      box-shadow: 0px 1px 2px rgba(60, 64, 67, 0.3), 0px 1px 3px 1px rgba(60, 64, 67, 0.15);\n",
              "      fill: #174EA6;\n",
              "    }\n",
              "\n",
              "    [theme=dark] .colab-df-convert {\n",
              "      background-color: #3B4455;\n",
              "      fill: #D2E3FC;\n",
              "    }\n",
              "\n",
              "    [theme=dark] .colab-df-convert:hover {\n",
              "      background-color: #434B5C;\n",
              "      box-shadow: 0px 1px 3px 1px rgba(0, 0, 0, 0.15);\n",
              "      filter: drop-shadow(0px 1px 2px rgba(0, 0, 0, 0.3));\n",
              "      fill: #FFFFFF;\n",
              "    }\n",
              "  </style>\n",
              "\n",
              "      <script>\n",
              "        const buttonEl =\n",
              "          document.querySelector('#df-f6db593b-3607-4484-a891-4bceb2bab8be button.colab-df-convert');\n",
              "        buttonEl.style.display =\n",
              "          google.colab.kernel.accessAllowed ? 'block' : 'none';\n",
              "\n",
              "        async function convertToInteractive(key) {\n",
              "          const element = document.querySelector('#df-f6db593b-3607-4484-a891-4bceb2bab8be');\n",
              "          const dataTable =\n",
              "            await google.colab.kernel.invokeFunction('convertToInteractive',\n",
              "                                                     [key], {});\n",
              "          if (!dataTable) return;\n",
              "\n",
              "          const docLinkHtml = 'Like what you see? Visit the ' +\n",
              "            '<a target=\"_blank\" href=https://colab.research.google.com/notebooks/data_table.ipynb>data table notebook</a>'\n",
              "            + ' to learn more about interactive tables.';\n",
              "          element.innerHTML = '';\n",
              "          dataTable['output_type'] = 'display_data';\n",
              "          await google.colab.output.renderOutput(dataTable, element);\n",
              "          const docLink = document.createElement('div');\n",
              "          docLink.innerHTML = docLinkHtml;\n",
              "          element.appendChild(docLink);\n",
              "        }\n",
              "      </script>\n",
              "    </div>\n",
              "  </div>\n",
              "  "
            ]
          },
          "metadata": {},
          "execution_count": 8
        }
      ]
    },
    {
      "cell_type": "markdown",
      "source": [
        "Group by the prediected and actual labels and find the top ten mistakes"
      ],
      "metadata": {
        "id": "dehCDqCemR6K"
      }
    },
    {
      "cell_type": "code",
      "source": [
        "misses_df.groupby(['Predicted', 'Actual']).size().sort_values(ascending=False)[:10]"
      ],
      "metadata": {
        "id": "yRfsDMtVcKJt",
        "outputId": "01ed543e-ad14-4818-e40e-7298ec4e7b7d",
        "colab": {
          "base_uri": "https://localhost:8080/"
        }
      },
      "execution_count": 9,
      "outputs": [
        {
          "output_type": "execute_result",
          "data": {
            "text/plain": [
              "Predicted  Actual\n",
              "0          6         139\n",
              "4          2         112\n",
              "2          6          93\n",
              "6          0          90\n",
              "2          4          90\n",
              "4          6          71\n",
              "6          2          65\n",
              "           4          54\n",
              "7          9          43\n",
              "3          6          36\n",
              "dtype: int64"
            ]
          },
          "metadata": {},
          "execution_count": 9
        }
      ]
    },
    {
      "cell_type": "markdown",
      "source": [
        "We can compare the predicted and actual labels for sample of the misclassified images. We may note the ambiguities?"
      ],
      "metadata": {
        "id": "MUHtQGkinNhL"
      }
    },
    {
      "cell_type": "code",
      "source": [
        "def compare(predicted, actual):\n",
        "  cond = (misses_df['Predicted'] == predicted) & (misses_df['Actual'] == actual)\n",
        "  examples = misses_df[cond]['Example']\n",
        "\n",
        "  samps = random.sample(list(examples), 4)\n",
        "  imgs = []\n",
        "  for samp in samps:\n",
        "    imgs.append((x_test[samp], y_hat[samp], y_test[samp]))\n",
        "\n",
        "  plt.figure(figsize=(10, 10))\n",
        "  for idx, item in enumerate(imgs):\n",
        "      image, predlabel, label = item\n",
        "      plt.subplot(2, 2, idx + 1)\n",
        "      plt.imshow(image, cmap=\"gray\")\n",
        "      plt.title(f\"Predicted: {class_names[predlabel]} Actual: {class_names[label]}\")\n",
        "  plt.show()\n"
      ],
      "metadata": {
        "id": "2Qt2e-GgiMr0"
      },
      "execution_count": 10,
      "outputs": []
    },
    {
      "cell_type": "markdown",
      "source": [
        "Since mislabeling 6 (Shirt) as 0 (t-shirt/top) is the most common mistake (152 errors), we can look at a few examples. The ambiguities may be apparent."
      ],
      "metadata": {
        "id": "T7S2ClDYmh0j"
      }
    },
    {
      "cell_type": "code",
      "source": [
        "compare(0, 6)"
      ],
      "metadata": {
        "id": "CPS3wSUDnkaM",
        "outputId": "df5acb63-d687-4f5a-9b09-a148f36219a7",
        "colab": {
          "base_uri": "https://localhost:8080/",
          "height": 607
        }
      },
      "execution_count": 11,
      "outputs": [
        {
          "output_type": "display_data",
          "data": {
            "text/plain": [
              "<Figure size 720x720 with 4 Axes>"
            ],
            "image/png": "[encoded data removed]"
          },
          "metadata": {
            "needs_background": "light"
          }
        }
      ]
    },
    {
      "cell_type": "markdown",
      "source": [
        "And vice versa"
      ],
      "metadata": {
        "id": "juZcYFqpoYTD"
      }
    },
    {
      "cell_type": "code",
      "source": [
        "compare(6, 0)"
      ],
      "metadata": {
        "id": "0SilnkQonxry",
        "outputId": "e83c73f1-14e5-435b-8d9c-f44fcfdbf811",
        "colab": {
          "base_uri": "https://localhost:8080/",
          "height": 607
        }
      },
      "execution_count": 12,
      "outputs": [
        {
          "output_type": "display_data",
          "data": {
            "text/plain": [
              "<Figure size 720x720 with 4 Axes>"
            ],
            "image/png": "[encoded data removed]"
          },
          "metadata": {
            "needs_background": "light"
          }
        }
      ]
    },
    {
      "cell_type": "markdown",
      "source": [
        "Mistaking 9 (sneaker) for 7 (ankle boot) is the least common error in the top ten (52 errors). One can get perceive how the model can be confused."
      ],
      "metadata": {
        "id": "PDTd57bhpJ6q"
      }
    },
    {
      "cell_type": "code",
      "source": [
        "compare(7, 9)"
      ],
      "metadata": {
        "id": "XgPo3h0woUqC",
        "outputId": "4e7e4313-5ef1-4be1-c6d9-bdfb7f34fc0f",
        "colab": {
          "base_uri": "https://localhost:8080/",
          "height": 607
        }
      },
      "execution_count": 13,
      "outputs": [
        {
          "output_type": "display_data",
          "data": {
            "text/plain": [
              "<Figure size 720x720 with 4 Axes>"
            ],
            "image/png": "[encoded data removed]"
          },
          "metadata": {
            "needs_background": "light"
          }
        }
      ]
    },
    {
      "cell_type": "code",
      "source": [
        "compare(9, 7)"
      ],
      "metadata": {
        "id": "vTlGcpwQogEj",
        "outputId": "acb4fce3-45ff-4f90-cd58-11d855f13b5f",
        "colab": {
          "base_uri": "https://localhost:8080/",
          "height": 607
        }
      },
      "execution_count": 14,
      "outputs": [
        {
          "output_type": "display_data",
          "data": {
            "text/plain": [
              "<Figure size 720x720 with 4 Axes>"
            ],
            "image/png": "[encoded data removed]"
          },
          "metadata": {
            "needs_background": "light"
          }
        }
      ]
    },
    {
      "cell_type": "code",
      "source": [],
      "metadata": {
        "id": "G6UXrWbuDfJh"
      },
      "execution_count": null,
      "outputs": []
    }
  ],
  "metadata": {
    "kernelspec": {
      "display_name": "fwd-fwd",
      "language": "python",
      "name": "python3"
    },
    "language_info": {
      "codemirror_mode": {
        "name": "ipython",
        "version": 3
      },
      "file_extension": ".py",
      "mimetype": "text/x-python",
      "name": "python",
      "nbconvert_exporter": "python",
      "pygments_lexer": "ipython3",
      "version": "3.8.8"
    },
    "orig_nbformat": 4,
    "vscode": {
      "interpreter": {
        "hash": "5a03d549c8c89287aea3f393b3a8601a7ab6b8fcd91759cf2fb0b9134b8f0c4a"
      }
    },
    "colab": {
      "provenance": []
    },
    "accelerator": "GPU",
    "gpuClass": "standard"
  },
  "nbformat": 4,
  "nbformat_minor": 0
}