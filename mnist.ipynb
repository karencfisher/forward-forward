{
 "cells": [
  {
   "cell_type": "code",
   "execution_count": 1,
   "metadata": {},
   "outputs": [],
   "source": [
    "import matplotlib.pyplot as plt\n",
    "import random\n",
    "import numpy as np\n",
    "\n",
    "from tensorflow.keras.datasets import mnist\n",
    "from tensorflow.keras.layers import Input, Flatten\n",
    "from tensorflow.keras.optimizers import Adam\n",
    "from tensorflow.keras.metrics import Mean\n",
    "from tensorflow.data import Dataset\n",
    "\n",
    "\n",
    "import utils\n",
    "from layers import FFDense\n",
    "from models import FFNetwork"
   ]
  },
  {
   "cell_type": "code",
   "execution_count": 2,
   "metadata": {},
   "outputs": [
    {
     "data": {
      "image/png": "[encoded data removed]",
      "text/plain": [
       "<Figure size 1000x1000 with 2 Axes>"
      ]
     },
     "metadata": {},
     "output_type": "display_data"
    }
   ],
   "source": [
    "(x_train, y_train), (x_test, y_test) = mnist.load_data()\n",
    "x_train = x_train.astype(float) / 255\n",
    "x_test = x_test.astype(float) / 255\n",
    "y_train = y_train.astype(int)\n",
    "y_test = y_test.astype(int)\n",
    "\n",
    "train_dataset = Dataset.from_tensor_slices((x_train, y_train))\n",
    "test_dataset = Dataset.from_tensor_slices((x_test, y_test))\n",
    "\n",
    "train_dataset = train_dataset.batch(60000)\n",
    "test_dataset = test_dataset.batch(10000)\n",
    "\n",
    "utils.show_samples(x_train, y_train, 2)"
   ]
  },
  {
   "cell_type": "code",
   "execution_count": 3,
   "metadata": {},
   "outputs": [],
   "source": [
    "model = FFNetwork([784, 500, 500])\n",
    "\n",
    "model.compile(\n",
    "    optimizer=Adam(learning_rate=0.03),\n",
    "    loss=\"mse\",\n",
    "    jit_compile=True,\n",
    "    metrics=[Mean()],\n",
    ")"
   ]
  },
  {
   "cell_type": "code",
   "execution_count": 4,
   "metadata": {},
   "outputs": [
    {
     "name": "stdout",
     "output_type": "stream",
     "text": [
      "Epoch 1/100\n",
      "Training layer 1 now : \n",
      "Training layer 2 now : \n",
      "Training layer 1 now : \n",
      "Training layer 2 now : \n",
      "1/1 [==============================] - 231s 231s/step - FinalLoss: 0.7248\n",
      "Epoch 2/100\n",
      "1/1 [==============================] - 79s 79s/step - FinalLoss: 0.7088\n",
      "Epoch 3/100\n",
      "1/1 [==============================] - 82s 82s/step - FinalLoss: 0.6993\n",
      "Epoch 4/100\n",
      "1/1 [==============================] - 78s 78s/step - FinalLoss: 0.6849\n",
      "Epoch 5/100\n",
      "1/1 [==============================] - 80s 80s/step - FinalLoss: 0.6673\n",
      "Epoch 6/100\n",
      "1/1 [==============================] - 77s 77s/step - FinalLoss: 0.6493\n",
      "Epoch 7/100\n",
      "1/1 [==============================] - 77s 77s/step - FinalLoss: 0.6325\n",
      "Epoch 8/100\n",
      "1/1 [==============================] - 78s 78s/step - FinalLoss: 0.6174\n",
      "Epoch 9/100\n",
      "1/1 [==============================] - 80s 80s/step - FinalLoss: 0.6035\n",
      "Epoch 10/100\n"
     ]
    }
   ],
   "source": [
    "history = model.fit(train_dataset, epochs=100, verbose=1)"
   ]
  }
 ],
 "metadata": {
  "kernelspec": {
   "display_name": "fwd-fwd",
   "language": "python",
   "name": "python3"
  },
  "language_info": {
   "codemirror_mode": {
    "name": "ipython",
    "version": 3
   },
   "file_extension": ".py",
   "mimetype": "text/x-python",
   "name": "python",
   "nbconvert_exporter": "python",
   "pygments_lexer": "ipython3",
   "version": "3.8.8"
  },
  "orig_nbformat": 4,
  "vscode": {
   "interpreter": {
    "hash": "5a03d549c8c89287aea3f393b3a8601a7ab6b8fcd91759cf2fb0b9134b8f0c4a"
   }
  }
 },
 "nbformat": 4,
 "nbformat_minor": 2
}
