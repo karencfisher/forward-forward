{
  "cells": [
    {
      "cell_type": "markdown",
      "source": [
        "Run the following cell if on Google Colab to load Python modules"
      ],
      "metadata": {
        "id": "wDDP1L9BpqPE"
      }
    },
    {
      "cell_type": "code",
      "source": [
        "!wget https://raw.githubusercontent.com/karencfisher/forward-forward/main/models.py\n",
        "!wget https://raw.githubusercontent.com/karencfisher/forward-forward/main/layers.py\n",
        "!wget https://raw.githubusercontent.com/karencfisher/forward-forward/main/utils.py"
      ],
      "metadata": {
        "colab": {
          "base_uri": "https://localhost:8080/"
        },
        "id": "TzeEnO2mizXf",
        "outputId": "413065bc-ce4f-4605-eedc-6b9bb5d499ef"
      },
      "execution_count": 1,
      "outputs": [
        {
          "output_type": "stream",
          "name": "stdout",
          "text": [
            "--2023-02-20 14:47:51--  https://raw.githubusercontent.com/karencfisher/forward-forward/main/models.py\n",
            "Resolving raw.githubusercontent.com (raw.githubusercontent.com)... 185.199.108.133, 185.199.109.133, 185.199.110.133, ...\n",
            "Connecting to raw.githubusercontent.com (raw.githubusercontent.com)|185.199.108.133|:443... connected.\n",
            "HTTP request sent, awaiting response... 200 OK\n",
            "Length: 2961 (2.9K) [text/plain]\n",
            "Saving to: ‘models.py’\n",
            "\n",
            "\rmodels.py             0%[                    ]       0  --.-KB/s               \rmodels.py           100%[===================>]   2.89K  --.-KB/s    in 0s      \n",
            "\n",
            "2023-02-20 14:47:51 (48.1 MB/s) - ‘models.py’ saved [2961/2961]\n",
            "\n",
            "--2023-02-20 14:47:51--  https://raw.githubusercontent.com/karencfisher/forward-forward/main/layers.py\n",
            "Resolving raw.githubusercontent.com (raw.githubusercontent.com)... 185.199.108.133, 185.199.109.133, 185.199.110.133, ...\n",
            "Connecting to raw.githubusercontent.com (raw.githubusercontent.com)|185.199.108.133|:443... connected.\n",
            "HTTP request sent, awaiting response... 200 OK\n",
            "Length: 1613 (1.6K) [text/plain]\n",
            "Saving to: ‘layers.py’\n",
            "\n",
            "layers.py           100%[===================>]   1.58K  --.-KB/s    in 0s      \n",
            "\n",
            "2023-02-20 14:47:51 (26.2 MB/s) - ‘layers.py’ saved [1613/1613]\n",
            "\n",
            "--2023-02-20 14:47:52--  https://raw.githubusercontent.com/karencfisher/forward-forward/main/utils.py\n",
            "Resolving raw.githubusercontent.com (raw.githubusercontent.com)... 185.199.111.133, 185.199.110.133, 185.199.109.133, ...\n",
            "Connecting to raw.githubusercontent.com (raw.githubusercontent.com)|185.199.111.133|:443... connected.\n",
            "HTTP request sent, awaiting response... 200 OK\n",
            "Length: 951 [text/plain]\n",
            "Saving to: ‘utils.py’\n",
            "\n",
            "utils.py            100%[===================>]     951  --.-KB/s    in 0s      \n",
            "\n",
            "2023-02-20 14:47:52 (39.4 MB/s) - ‘utils.py’ saved [951/951]\n",
            "\n"
          ]
        }
      ]
    },
    {
      "cell_type": "code",
      "execution_count": 14,
      "metadata": {
        "id": "yB9IXzWRitHv"
      },
      "outputs": [],
      "source": [
        "import matplotlib.pyplot as plt\n",
        "import seaborn as sns\n",
        "import random\n",
        "import numpy as np\n",
        "import pandas as pd\n",
        "\n",
        "from sklearn.metrics import accuracy_score, confusion_matrix\n",
        "\n",
        "from tensorflow.keras.datasets import mnist\n",
        "from tensorflow.keras.layers import Input, Flatten\n",
        "from tensorflow.keras.optimizers import Adam\n",
        "from tensorflow.keras.metrics import Mean\n",
        "from tensorflow.data import Dataset\n",
        "import tensorflow as tf\n",
        "\n",
        "\n",
        "import utils\n",
        "from layers import FFDense\n",
        "from models import FFNetwork"
      ]
    },
    {
      "cell_type": "code",
      "execution_count": 4,
      "metadata": {
        "colab": {
          "base_uri": "https://localhost:8080/",
          "height": 348
        },
        "id": "knUI4fmJitHy",
        "outputId": "8bb73d9a-069f-46e3-a72e-78358e236269"
      },
      "outputs": [
        {
          "output_type": "stream",
          "name": "stdout",
          "text": [
            "60000 training examples\n",
            "10000 testing examples\n"
          ]
        },
        {
          "output_type": "display_data",
          "data": {
            "text/plain": [
              "<Figure size 720x720 with 2 Axes>"
            ],
            "image/png": "[encoded data removed]"
          },
          "metadata": {
            "needs_background": "light"
          }
        }
      ],
      "source": [
        "(x_train, y_train), (x_test, y_test) = mnist.load_data()\n",
        "x_train = x_train.astype(float) / 255\n",
        "x_test = x_test.astype(float) / 255\n",
        "y_train = y_train.astype(int)\n",
        "y_test = y_test.astype(int)\n",
        "\n",
        "print(f'{x_train.shape[0]} training examples\\n{x_test.shape[0]} testing examples')\n",
        "\n",
        "train_dataset = Dataset.from_tensor_slices((x_train, y_train))\n",
        "test_dataset = Dataset.from_tensor_slices((x_test, y_test))\n",
        "\n",
        "train_dataset = train_dataset.batch(60000)\n",
        "test_dataset = test_dataset.batch(10000)\n",
        "\n",
        "utils.show_samples(x_train, y_train, 2)"
      ]
    },
    {
      "cell_type": "markdown",
      "source": [
        "## Build and train the Forward-Foward model!"
      ],
      "metadata": {
        "id": "hwuryvyAqFVy"
      }
    },
    {
      "cell_type": "code",
      "execution_count": 6,
      "metadata": {
        "id": "1lVsc4GwitH0"
      },
      "outputs": [],
      "source": [
        "model = FFNetwork([784, 500, 500])\n",
        "\n",
        "model.compile(\n",
        "    optimizer=Adam(learning_rate=0.03),\n",
        "    loss=\"mse\",\n",
        "    jit_compile=True,\n",
        "    metrics=[Mean()],\n",
        ")"
      ]
    },
    {
      "cell_type": "code",
      "execution_count": 8,
      "metadata": {
        "colab": {
          "base_uri": "https://localhost:8080/"
        },
        "id": "PU885y9yitH0",
        "outputId": "1ffb66b0-9eea-45df-8a48-5337a67db0e2"
      },
      "outputs": [
        {
          "output_type": "stream",
          "name": "stdout",
          "text": [
            "Epoch 1/100\n",
            "Training layer 1 now : \n",
            "Training layer 2 now : \n",
            "Training layer 1 now : \n",
            "Training layer 2 now : \n",
            "1/1 [==============================] - 90s 90s/step - FinalLoss: 0.7249\n",
            "Epoch 2/100\n",
            "1/1 [==============================] - 6s 6s/step - FinalLoss: 0.7089\n",
            "Epoch 3/100\n",
            "1/1 [==============================] - 6s 6s/step - FinalLoss: 0.6978\n",
            "Epoch 4/100\n",
            "1/1 [==============================] - 6s 6s/step - FinalLoss: 0.6822\n",
            "Epoch 5/100\n",
            "1/1 [==============================] - 6s 6s/step - FinalLoss: 0.6641\n",
            "Epoch 6/100\n",
            "1/1 [==============================] - 6s 6s/step - FinalLoss: 0.6461\n",
            "Epoch 7/100\n",
            "1/1 [==============================] - 6s 6s/step - FinalLoss: 0.6293\n",
            "Epoch 8/100\n",
            "1/1 [==============================] - 6s 6s/step - FinalLoss: 0.6141\n",
            "Epoch 9/100\n",
            "1/1 [==============================] - 6s 6s/step - FinalLoss: 0.6001\n",
            "Epoch 10/100\n",
            "1/1 [==============================] - 6s 6s/step - FinalLoss: 0.5874\n",
            "Epoch 11/100\n",
            "1/1 [==============================] - 6s 6s/step - FinalLoss: 0.5757\n",
            "Epoch 12/100\n",
            "1/1 [==============================] - 6s 6s/step - FinalLoss: 0.5648\n",
            "Epoch 13/100\n",
            "1/1 [==============================] - 6s 6s/step - FinalLoss: 0.5547\n",
            "Epoch 14/100\n",
            "1/1 [==============================] - 6s 6s/step - FinalLoss: 0.5453\n",
            "Epoch 15/100\n",
            "1/1 [==============================] - 6s 6s/step - FinalLoss: 0.5367\n",
            "Epoch 16/100\n",
            "1/1 [==============================] - 6s 6s/step - FinalLoss: 0.5287\n",
            "Epoch 17/100\n",
            "1/1 [==============================] - 6s 6s/step - FinalLoss: 0.5213\n",
            "Epoch 18/100\n",
            "1/1 [==============================] - 6s 6s/step - FinalLoss: 0.5144\n",
            "Epoch 19/100\n",
            "1/1 [==============================] - 6s 6s/step - FinalLoss: 0.5079\n",
            "Epoch 20/100\n",
            "1/1 [==============================] - 6s 6s/step - FinalLoss: 0.5018\n",
            "Epoch 21/100\n",
            "1/1 [==============================] - 6s 6s/step - FinalLoss: 0.4960\n",
            "Epoch 22/100\n",
            "1/1 [==============================] - 6s 6s/step - FinalLoss: 0.4906\n",
            "Epoch 23/100\n",
            "1/1 [==============================] - 6s 6s/step - FinalLoss: 0.4855\n",
            "Epoch 24/100\n",
            "1/1 [==============================] - 6s 6s/step - FinalLoss: 0.4806\n",
            "Epoch 25/100\n",
            "1/1 [==============================] - 6s 6s/step - FinalLoss: 0.4761\n",
            "Epoch 26/100\n",
            "1/1 [==============================] - 6s 6s/step - FinalLoss: 0.4718\n",
            "Epoch 27/100\n",
            "1/1 [==============================] - 6s 6s/step - FinalLoss: 0.4677\n",
            "Epoch 28/100\n",
            "1/1 [==============================] - 6s 6s/step - FinalLoss: 0.4638\n",
            "Epoch 29/100\n",
            "1/1 [==============================] - 6s 6s/step - FinalLoss: 0.4600\n",
            "Epoch 30/100\n",
            "1/1 [==============================] - 6s 6s/step - FinalLoss: 0.4565\n",
            "Epoch 31/100\n",
            "1/1 [==============================] - 6s 6s/step - FinalLoss: 0.4531\n",
            "Epoch 32/100\n",
            "1/1 [==============================] - 6s 6s/step - FinalLoss: 0.4499\n",
            "Epoch 33/100\n",
            "1/1 [==============================] - 6s 6s/step - FinalLoss: 0.4469\n",
            "Epoch 34/100\n",
            "1/1 [==============================] - 7s 7s/step - FinalLoss: 0.4440\n",
            "Epoch 35/100\n",
            "1/1 [==============================] - 6s 6s/step - FinalLoss: 0.4412\n",
            "Epoch 36/100\n",
            "1/1 [==============================] - 6s 6s/step - FinalLoss: 0.4385\n",
            "Epoch 37/100\n",
            "1/1 [==============================] - 6s 6s/step - FinalLoss: 0.4359\n",
            "Epoch 38/100\n",
            "1/1 [==============================] - 6s 6s/step - FinalLoss: 0.4335\n",
            "Epoch 39/100\n",
            "1/1 [==============================] - 6s 6s/step - FinalLoss: 0.4311\n",
            "Epoch 40/100\n",
            "1/1 [==============================] - 6s 6s/step - FinalLoss: 0.4288\n",
            "Epoch 41/100\n",
            "1/1 [==============================] - 6s 6s/step - FinalLoss: 0.4265\n",
            "Epoch 42/100\n",
            "1/1 [==============================] - 6s 6s/step - FinalLoss: 0.4244\n",
            "Epoch 43/100\n",
            "1/1 [==============================] - 6s 6s/step - FinalLoss: 0.4223\n",
            "Epoch 44/100\n",
            "1/1 [==============================] - 6s 6s/step - FinalLoss: 0.4203\n",
            "Epoch 45/100\n",
            "1/1 [==============================] - 6s 6s/step - FinalLoss: 0.4183\n",
            "Epoch 46/100\n",
            "1/1 [==============================] - 6s 6s/step - FinalLoss: 0.4165\n",
            "Epoch 47/100\n",
            "1/1 [==============================] - 6s 6s/step - FinalLoss: 0.4147\n",
            "Epoch 48/100\n",
            "1/1 [==============================] - 6s 6s/step - FinalLoss: 0.4129\n",
            "Epoch 49/100\n",
            "1/1 [==============================] - 6s 6s/step - FinalLoss: 0.4112\n",
            "Epoch 50/100\n",
            "1/1 [==============================] - 6s 6s/step - FinalLoss: 0.4096\n",
            "Epoch 51/100\n",
            "1/1 [==============================] - 6s 6s/step - FinalLoss: 0.4079\n",
            "Epoch 52/100\n",
            "1/1 [==============================] - 6s 6s/step - FinalLoss: 0.4064\n",
            "Epoch 53/100\n",
            "1/1 [==============================] - 6s 6s/step - FinalLoss: 0.4049\n",
            "Epoch 54/100\n",
            "1/1 [==============================] - 6s 6s/step - FinalLoss: 0.4034\n",
            "Epoch 55/100\n",
            "1/1 [==============================] - 6s 6s/step - FinalLoss: 0.4020\n",
            "Epoch 56/100\n",
            "1/1 [==============================] - 6s 6s/step - FinalLoss: 0.4005\n",
            "Epoch 57/100\n",
            "1/1 [==============================] - 6s 6s/step - FinalLoss: 0.3991\n",
            "Epoch 58/100\n",
            "1/1 [==============================] - 6s 6s/step - FinalLoss: 0.3978\n",
            "Epoch 59/100\n",
            "1/1 [==============================] - 6s 6s/step - FinalLoss: 0.3965\n",
            "Epoch 60/100\n",
            "1/1 [==============================] - 6s 6s/step - FinalLoss: 0.3953\n",
            "Epoch 61/100\n",
            "1/1 [==============================] - 6s 6s/step - FinalLoss: 0.3941\n",
            "Epoch 62/100\n",
            "1/1 [==============================] - 6s 6s/step - FinalLoss: 0.3929\n",
            "Epoch 63/100\n",
            "1/1 [==============================] - 6s 6s/step - FinalLoss: 0.3917\n",
            "Epoch 64/100\n",
            "1/1 [==============================] - 6s 6s/step - FinalLoss: 0.3905\n",
            "Epoch 65/100\n",
            "1/1 [==============================] - 6s 6s/step - FinalLoss: 0.3893\n",
            "Epoch 66/100\n",
            "1/1 [==============================] - 6s 6s/step - FinalLoss: 0.3883\n",
            "Epoch 67/100\n",
            "1/1 [==============================] - 6s 6s/step - FinalLoss: 0.3872\n",
            "Epoch 68/100\n",
            "1/1 [==============================] - 6s 6s/step - FinalLoss: 0.3861\n",
            "Epoch 69/100\n",
            "1/1 [==============================] - 6s 6s/step - FinalLoss: 0.3850\n",
            "Epoch 70/100\n",
            "1/1 [==============================] - 6s 6s/step - FinalLoss: 0.3840\n",
            "Epoch 71/100\n",
            "1/1 [==============================] - 6s 6s/step - FinalLoss: 0.3830\n",
            "Epoch 72/100\n",
            "1/1 [==============================] - 6s 6s/step - FinalLoss: 0.3820\n",
            "Epoch 73/100\n",
            "1/1 [==============================] - 6s 6s/step - FinalLoss: 0.3810\n",
            "Epoch 74/100\n",
            "1/1 [==============================] - 6s 6s/step - FinalLoss: 0.3801\n",
            "Epoch 75/100\n",
            "1/1 [==============================] - 6s 6s/step - FinalLoss: 0.3791\n",
            "Epoch 76/100\n",
            "1/1 [==============================] - 6s 6s/step - FinalLoss: 0.3782\n",
            "Epoch 77/100\n",
            "1/1 [==============================] - 6s 6s/step - FinalLoss: 0.3773\n",
            "Epoch 78/100\n",
            "1/1 [==============================] - 6s 6s/step - FinalLoss: 0.3764\n",
            "Epoch 79/100\n",
            "1/1 [==============================] - 6s 6s/step - FinalLoss: 0.3755\n",
            "Epoch 80/100\n",
            "1/1 [==============================] - 6s 6s/step - FinalLoss: 0.3747\n",
            "Epoch 81/100\n",
            "1/1 [==============================] - 6s 6s/step - FinalLoss: 0.3738\n",
            "Epoch 82/100\n",
            "1/1 [==============================] - 6s 6s/step - FinalLoss: 0.3730\n",
            "Epoch 83/100\n",
            "1/1 [==============================] - 6s 6s/step - FinalLoss: 0.3722\n",
            "Epoch 84/100\n",
            "1/1 [==============================] - 6s 6s/step - FinalLoss: 0.3714\n",
            "Epoch 85/100\n",
            "1/1 [==============================] - 6s 6s/step - FinalLoss: 0.3706\n",
            "Epoch 86/100\n",
            "1/1 [==============================] - 6s 6s/step - FinalLoss: 0.3698\n",
            "Epoch 87/100\n",
            "1/1 [==============================] - 6s 6s/step - FinalLoss: 0.3691\n",
            "Epoch 88/100\n",
            "1/1 [==============================] - 6s 6s/step - FinalLoss: 0.3683\n",
            "Epoch 89/100\n",
            "1/1 [==============================] - 6s 6s/step - FinalLoss: 0.3676\n",
            "Epoch 90/100\n",
            "1/1 [==============================] - 6s 6s/step - FinalLoss: 0.3668\n",
            "Epoch 91/100\n",
            "1/1 [==============================] - 6s 6s/step - FinalLoss: 0.3661\n",
            "Epoch 92/100\n",
            "1/1 [==============================] - 6s 6s/step - FinalLoss: 0.3654\n",
            "Epoch 93/100\n",
            "1/1 [==============================] - 6s 6s/step - FinalLoss: 0.3647\n",
            "Epoch 94/100\n",
            "1/1 [==============================] - 6s 6s/step - FinalLoss: 0.3640\n",
            "Epoch 95/100\n",
            "1/1 [==============================] - 6s 6s/step - FinalLoss: 0.3634\n",
            "Epoch 96/100\n",
            "1/1 [==============================] - 6s 6s/step - FinalLoss: 0.3627\n",
            "Epoch 97/100\n",
            "1/1 [==============================] - 6s 6s/step - FinalLoss: 0.3621\n",
            "Epoch 98/100\n",
            "1/1 [==============================] - 6s 6s/step - FinalLoss: 0.3614\n",
            "Epoch 99/100\n",
            "1/1 [==============================] - 6s 6s/step - FinalLoss: 0.3608\n",
            "Epoch 100/100\n",
            "1/1 [==============================] - 6s 6s/step - FinalLoss: 0.3601\n"
          ]
        }
      ],
      "source": [
        "history = model.fit(train_dataset, epochs=100, verbose=1)"
      ]
    },
    {
      "cell_type": "markdown",
      "source": [
        "## Model Evaluation"
      ],
      "metadata": {
        "id": "aTFYyzCIo6AK"
      }
    },
    {
      "cell_type": "code",
      "source": [
        "preds = model.predict(tf.convert_to_tensor(x_test))\n",
        "preds = preds.reshape((preds.shape[0], preds.shape[1]))\n",
        "results = accuracy_score(preds, y_test)\n",
        "print(f\"Test Accuracy score : {results*100}%\")\n",
        "\n",
        "plt.plot(range(len(history.history[\"FinalLoss\"])), history.history[\"FinalLoss\"])\n",
        "plt.title(\"Loss over training\")\n",
        "plt.show()"
      ],
      "metadata": {
        "colab": {
          "base_uri": "https://localhost:8080/",
          "height": 299
        },
        "id": "0_03mOx3nGNw",
        "outputId": "a85a5853-e65f-4acc-e3e3-e43688de7c29"
      },
      "execution_count": 11,
      "outputs": [
        {
          "output_type": "stream",
          "name": "stdout",
          "text": [
            "Test Accuracy score : 96.57%\n"
          ]
        },
        {
          "output_type": "display_data",
          "data": {
            "text/plain": [
              "<Figure size 432x288 with 1 Axes>"
            ],
            "image/png": "[encoded data removed]"
          },
          "metadata": {
            "needs_background": "light"
          }
        }
      ]
    },
    {
      "cell_type": "code",
      "source": [
        "plt.figure(figsize=(10, 10))\n",
        "cm = confusion_matrix(preds, y_test)\n",
        "sns.heatmap(cm, annot=True, fmt='2d', cbar=False, cmap='rocket')\n",
        "plt.title('Confusion Matrix')\n",
        "plt.show()"
      ],
      "metadata": {
        "id": "TjI4WCOFo_bl",
        "outputId": "76e2da32-4ee2-4f44-b86b-34dd97fe8dc8",
        "colab": {
          "base_uri": "https://localhost:8080/",
          "height": 607
        }
      },
      "execution_count": 12,
      "outputs": [
        {
          "output_type": "display_data",
          "data": {
            "text/plain": [
              "<Figure size 720x720 with 1 Axes>"
            ],
            "image/png": "[encoded data removed]"
          },
          "metadata": {
            "needs_background": "light"
          }
        }
      ]
    },
    {
      "cell_type": "markdown",
      "source": [
        "### Looking at the errors"
      ],
      "metadata": {
        "id": "BnqLaBXQimyD"
      }
    },
    {
      "cell_type": "markdown",
      "source": [
        "We can just make a dataframe of all the mismatches, the predicted and actual labels, and sort them"
      ],
      "metadata": {
        "id": "VUwvzZTImGii"
      }
    },
    {
      "cell_type": "code",
      "source": [
        "y_hat = np.squeeze(preds)\n",
        "misses_df = pd.DataFrame(columns=['Predicted', 'Actual'])\n",
        "misses_df['Predicted'] = y_hat\n",
        "misses_df['Actual'] = y_test\n",
        "cond = misses_df['Predicted'] != misses_df['Actual']\n",
        "misses_df = misses_df[cond]\n",
        "misses_df = misses_df.sort_values(by=['Predicted', 'Actual'])\n",
        "misses_df.reset_index(inplace=True)\n",
        "misses_df = misses_df.rename(columns = {'index':'Example'})\n",
        "\n",
        "misses_df"
      ],
      "metadata": {
        "id": "hfrSt_Dde1PN",
        "outputId": "28ca7422-de4d-4c92-d785-e0ac6888ede9",
        "colab": {
          "base_uri": "https://localhost:8080/",
          "height": 423
        }
      },
      "execution_count": 31,
      "outputs": [
        {
          "output_type": "execute_result",
          "data": {
            "text/plain": [
              "     Example  Predicted  Actual\n",
              "0       1678          0       2\n",
              "1       2098          0       2\n",
              "2       6035          0       2\n",
              "3       9716          0       2\n",
              "4       9768          0       2\n",
              "..       ...        ...     ...\n",
              "338     2004          9       8\n",
              "339     4639          9       8\n",
              "340     6555          9       8\n",
              "341     7094          9       8\n",
              "342     7121          9       8\n",
              "\n",
              "[343 rows x 3 columns]"
            ],
            "text/html": [
              "\n",
              "  <div id=\"df-1bdcd65b-8432-463d-b9aa-1dd97d94784e\">\n",
              "    <div class=\"colab-df-container\">\n",
              "      <div>\n",
              "<style scoped>\n",
              "    .dataframe tbody tr th:only-of-type {\n",
              "        vertical-align: middle;\n",
              "    }\n",
              "\n",
              "    .dataframe tbody tr th {\n",
              "        vertical-align: top;\n",
              "    }\n",
              "\n",
              "    .dataframe thead th {\n",
              "        text-align: right;\n",
              "    }\n",
              "</style>\n",
              "<table border=\"1\" class=\"dataframe\">\n",
              "  <thead>\n",
              "    <tr style=\"text-align: right;\">\n",
              "      <th></th>\n",
              "      <th>Example</th>\n",
              "      <th>Predicted</th>\n",
              "      <th>Actual</th>\n",
              "    </tr>\n",
              "  </thead>\n",
              "  <tbody>\n",
              "    <tr>\n",
              "      <th>0</th>\n",
              "      <td>1678</td>\n",
              "      <td>0</td>\n",
              "      <td>2</td>\n",
              "    </tr>\n",
              "    <tr>\n",
              "      <th>1</th>\n",
              "      <td>2098</td>\n",
              "      <td>0</td>\n",
              "      <td>2</td>\n",
              "    </tr>\n",
              "    <tr>\n",
              "      <th>2</th>\n",
              "      <td>6035</td>\n",
              "      <td>0</td>\n",
              "      <td>2</td>\n",
              "    </tr>\n",
              "    <tr>\n",
              "      <th>3</th>\n",
              "      <td>9716</td>\n",
              "      <td>0</td>\n",
              "      <td>2</td>\n",
              "    </tr>\n",
              "    <tr>\n",
              "      <th>4</th>\n",
              "      <td>9768</td>\n",
              "      <td>0</td>\n",
              "      <td>2</td>\n",
              "    </tr>\n",
              "    <tr>\n",
              "      <th>...</th>\n",
              "      <td>...</td>\n",
              "      <td>...</td>\n",
              "      <td>...</td>\n",
              "    </tr>\n",
              "    <tr>\n",
              "      <th>338</th>\n",
              "      <td>2004</td>\n",
              "      <td>9</td>\n",
              "      <td>8</td>\n",
              "    </tr>\n",
              "    <tr>\n",
              "      <th>339</th>\n",
              "      <td>4639</td>\n",
              "      <td>9</td>\n",
              "      <td>8</td>\n",
              "    </tr>\n",
              "    <tr>\n",
              "      <th>340</th>\n",
              "      <td>6555</td>\n",
              "      <td>9</td>\n",
              "      <td>8</td>\n",
              "    </tr>\n",
              "    <tr>\n",
              "      <th>341</th>\n",
              "      <td>7094</td>\n",
              "      <td>9</td>\n",
              "      <td>8</td>\n",
              "    </tr>\n",
              "    <tr>\n",
              "      <th>342</th>\n",
              "      <td>7121</td>\n",
              "      <td>9</td>\n",
              "      <td>8</td>\n",
              "    </tr>\n",
              "  </tbody>\n",
              "</table>\n",
              "<p>343 rows × 3 columns</p>\n",
              "</div>\n",
              "      <button class=\"colab-df-convert\" onclick=\"convertToInteractive('df-1bdcd65b-8432-463d-b9aa-1dd97d94784e')\"\n",
              "              title=\"Convert this dataframe to an interactive table.\"\n",
              "              style=\"display:none;\">\n",
              "        \n",
              "  <svg xmlns=\"http://www.w3.org/2000/svg\" height=\"24px\"viewBox=\"0 0 24 24\"\n",
              "       width=\"24px\">\n",
              "    <path d=\"M0 0h24v24H0V0z\" fill=\"none\"/>\n",
              "    <path d=\"M18.56 5.44l.94 2.06.94-2.06 2.06-.94-2.06-.94-.94-2.06-.94 2.06-2.06.94zm-11 1L8.5 8.5l.94-2.06 2.06-.94-2.06-.94L8.5 2.5l-.94 2.06-2.06.94zm10 10l.94 2.06.94-2.06 2.06-.94-2.06-.94-.94-2.06-.94 2.06-2.06.94z\"/><path d=\"M17.41 7.96l-1.37-1.37c-.4-.4-.92-.59-1.43-.59-.52 0-1.04.2-1.43.59L10.3 9.45l-7.72 7.72c-.78.78-.78 2.05 0 2.83L4 21.41c.39.39.9.59 1.41.59.51 0 1.02-.2 1.41-.59l7.78-7.78 2.81-2.81c.8-.78.8-2.07 0-2.86zM5.41 20L4 18.59l7.72-7.72 1.47 1.35L5.41 20z\"/>\n",
              "  </svg>\n",
              "      </button>\n",
              "      \n",
              "  <style>\n",
              "    .colab-df-container {\n",
              "      display:flex;\n",
              "      flex-wrap:wrap;\n",
              "      gap: 12px;\n",
              "    }\n",
              "\n",
              "    .colab-df-convert {\n",
              "      background-color: #E8F0FE;\n",
              "      border: none;\n",
              "      border-radius: 50%;\n",
              "      cursor: pointer;\n",
              "      display: none;\n",
              "      fill: #1967D2;\n",
              "      height: 32px;\n",
              "      padding: 0 0 0 0;\n",
              "      width: 32px;\n",
              "    }\n",
              "\n",
              "    .colab-df-convert:hover {\n",
              "      background-color: #E2EBFA;\n",
              "      box-shadow: 0px 1px 2px rgba(60, 64, 67, 0.3), 0px 1px 3px 1px rgba(60, 64, 67, 0.15);\n",
              "      fill: #174EA6;\n",
              "    }\n",
              "\n",
              "    [theme=dark] .colab-df-convert {\n",
              "      background-color: #3B4455;\n",
              "      fill: #D2E3FC;\n",
              "    }\n",
              "\n",
              "    [theme=dark] .colab-df-convert:hover {\n",
              "      background-color: #434B5C;\n",
              "      box-shadow: 0px 1px 3px 1px rgba(0, 0, 0, 0.15);\n",
              "      filter: drop-shadow(0px 1px 2px rgba(0, 0, 0, 0.3));\n",
              "      fill: #FFFFFF;\n",
              "    }\n",
              "  </style>\n",
              "\n",
              "      <script>\n",
              "        const buttonEl =\n",
              "          document.querySelector('#df-1bdcd65b-8432-463d-b9aa-1dd97d94784e button.colab-df-convert');\n",
              "        buttonEl.style.display =\n",
              "          google.colab.kernel.accessAllowed ? 'block' : 'none';\n",
              "\n",
              "        async function convertToInteractive(key) {\n",
              "          const element = document.querySelector('#df-1bdcd65b-8432-463d-b9aa-1dd97d94784e');\n",
              "          const dataTable =\n",
              "            await google.colab.kernel.invokeFunction('convertToInteractive',\n",
              "                                                     [key], {});\n",
              "          if (!dataTable) return;\n",
              "\n",
              "          const docLinkHtml = 'Like what you see? Visit the ' +\n",
              "            '<a target=\"_blank\" href=https://colab.research.google.com/notebooks/data_table.ipynb>data table notebook</a>'\n",
              "            + ' to learn more about interactive tables.';\n",
              "          element.innerHTML = '';\n",
              "          dataTable['output_type'] = 'display_data';\n",
              "          await google.colab.output.renderOutput(dataTable, element);\n",
              "          const docLink = document.createElement('div');\n",
              "          docLink.innerHTML = docLinkHtml;\n",
              "          element.appendChild(docLink);\n",
              "        }\n",
              "      </script>\n",
              "    </div>\n",
              "  </div>\n",
              "  "
            ]
          },
          "metadata": {},
          "execution_count": 31
        }
      ]
    },
    {
      "cell_type": "markdown",
      "source": [
        "Group by the prediected and actual labels and find the top ten mistakes"
      ],
      "metadata": {
        "id": "dehCDqCemR6K"
      }
    },
    {
      "cell_type": "code",
      "source": [
        "misses_df.groupby(['Predicted', 'Actual']).size().sort_values(ascending=False)[:10]"
      ],
      "metadata": {
        "id": "yRfsDMtVcKJt",
        "outputId": "5af47690-cefc-44ce-e81c-0e44378d6bc8",
        "colab": {
          "base_uri": "https://localhost:8080/"
        }
      },
      "execution_count": 35,
      "outputs": [
        {
          "output_type": "execute_result",
          "data": {
            "text/plain": [
              "Predicted  Actual\n",
              "9          4         26\n",
              "8          2         17\n",
              "2          7         16\n",
              "3          5         14\n",
              "           9         11\n",
              "4          9         10\n",
              "6          5         10\n",
              "7          2         10\n",
              "8          5         10\n",
              "7          3          9\n",
              "dtype: int64"
            ]
          },
          "metadata": {},
          "execution_count": 35
        }
      ]
    },
    {
      "cell_type": "markdown",
      "source": [
        "We can compare the predicted and actual labels for sample of the misclassified images. We may note the ambiguities?"
      ],
      "metadata": {
        "id": "MUHtQGkinNhL"
      }
    },
    {
      "cell_type": "code",
      "source": [
        "def compare(predicted, actual):\n",
        "  cond = (misses_df['Predicted'] == predicted) & (misses_df['Actual'] == actual)\n",
        "  examples = misses_df[cond]['Example']\n",
        "\n",
        "  samps = random.sample(list(examples), 4)\n",
        "  imgs = []\n",
        "  for samp in samps:\n",
        "    imgs.append((x_test[samp], y_hat[samp], y_test[samp]))\n",
        "\n",
        "  plt.figure(figsize=(10, 10))\n",
        "  for idx, item in enumerate(imgs):\n",
        "      image, predlabel, label = item\n",
        "      plt.subplot(2, 2, idx + 1)\n",
        "      plt.imshow(image, cmap=\"gray\")\n",
        "      plt.title(f\"Predicted: {predlabel} Actual: {label}\")\n",
        "  plt.show()\n"
      ],
      "metadata": {
        "id": "2Qt2e-GgiMr0"
      },
      "execution_count": 49,
      "outputs": []
    },
    {
      "cell_type": "markdown",
      "source": [
        "Since mislabeling 4 as 9 is the most common mistake (26 errors out of 10,000 test examples), we can look at a few examples. The ambiguities may be apparent."
      ],
      "metadata": {
        "id": "T7S2ClDYmh0j"
      }
    },
    {
      "cell_type": "code",
      "source": [
        "compare(9, 4)"
      ],
      "metadata": {
        "id": "CPS3wSUDnkaM",
        "outputId": "949e01d9-9a90-4fd4-df2c-325950aadbc0",
        "colab": {
          "base_uri": "https://localhost:8080/",
          "height": 607
        }
      },
      "execution_count": 51,
      "outputs": [
        {
          "output_type": "display_data",
          "data": {
            "text/plain": [
              "<Figure size 720x720 with 4 Axes>"
            ],
            "image/png": "[encoded data removed]"
          },
          "metadata": {
            "needs_background": "light"
          }
        }
      ]
    },
    {
      "cell_type": "markdown",
      "source": [
        "And vice versa"
      ],
      "metadata": {
        "id": "juZcYFqpoYTD"
      }
    },
    {
      "cell_type": "code",
      "source": [
        "compare(4, 9)"
      ],
      "metadata": {
        "id": "0SilnkQonxry",
        "outputId": "8d09cf4a-ff72-42eb-ee0d-139003cec73f",
        "colab": {
          "base_uri": "https://localhost:8080/",
          "height": 607
        }
      },
      "execution_count": 52,
      "outputs": [
        {
          "output_type": "display_data",
          "data": {
            "text/plain": [
              "<Figure size 720x720 with 4 Axes>"
            ],
            "image/png": "[encoded data removed]"
          },
          "metadata": {
            "needs_background": "light"
          }
        }
      ]
    },
    {
      "cell_type": "markdown",
      "source": [
        "Mistaking 3 for 7 is the least common error in the top ten (only 9 errors)"
      ],
      "metadata": {
        "id": "PDTd57bhpJ6q"
      }
    },
    {
      "cell_type": "code",
      "source": [
        "compare(7, 3)"
      ],
      "metadata": {
        "id": "XgPo3h0woUqC",
        "outputId": "49199450-489d-4648-8f37-ab6acfa3cadc",
        "colab": {
          "base_uri": "https://localhost:8080/",
          "height": 607
        }
      },
      "execution_count": 53,
      "outputs": [
        {
          "output_type": "display_data",
          "data": {
            "text/plain": [
              "<Figure size 720x720 with 4 Axes>"
            ],
            "image/png": "[encoded data removed]"
          },
          "metadata": {
            "needs_background": "light"
          }
        }
      ]
    },
    {
      "cell_type": "code",
      "source": [],
      "metadata": {
        "id": "vTlGcpwQogEj"
      },
      "execution_count": null,
      "outputs": []
    }
  ],
  "metadata": {
    "kernelspec": {
      "display_name": "fwd-fwd",
      "language": "python",
      "name": "python3"
    },
    "language_info": {
      "codemirror_mode": {
        "name": "ipython",
        "version": 3
      },
      "file_extension": ".py",
      "mimetype": "text/x-python",
      "name": "python",
      "nbconvert_exporter": "python",
      "pygments_lexer": "ipython3",
      "version": "3.8.8"
    },
    "orig_nbformat": 4,
    "vscode": {
      "interpreter": {
        "hash": "5a03d549c8c89287aea3f393b3a8601a7ab6b8fcd91759cf2fb0b9134b8f0c4a"
      }
    },
    "colab": {
      "provenance": []
    },
    "accelerator": "GPU",
    "gpuClass": "standard"
  },
  "nbformat": 4,
  "nbformat_minor": 0
}