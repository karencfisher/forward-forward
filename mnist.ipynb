{
  "cells": [
    {
      "cell_type": "code",
      "source": [
        "!wget https://raw.githubusercontent.com/karencfisher/forward-forward/main/models.py\n",
        "!wget https://raw.githubusercontent.com/karencfisher/forward-forward/main/layers.py\n",
        "!wget https://raw.githubusercontent.com/karencfisher/forward-forward/main/utils.py"
      ],
      "metadata": {
        "colab": {
          "base_uri": "https://localhost:8080/"
        },
        "id": "TzeEnO2mizXf",
        "outputId": "71c5cfbb-584c-47b2-82dc-cb88aa40d4cd"
      },
      "execution_count": 1,
      "outputs": [
        {
          "output_type": "stream",
          "name": "stdout",
          "text": [
            "--2023-02-20 02:02:54--  https://raw.githubusercontent.com/karencfisher/forward-forward/main/models.py\n",
            "Resolving raw.githubusercontent.com (raw.githubusercontent.com)... 185.199.108.133, 185.199.109.133, 185.199.110.133, ...\n",
            "Connecting to raw.githubusercontent.com (raw.githubusercontent.com)|185.199.108.133|:443... connected.\n",
            "HTTP request sent, awaiting response... 200 OK\n",
            "Length: 2961 (2.9K) [text/plain]\n",
            "Saving to: ‘models.py’\n",
            "\n",
            "models.py           100%[===================>]   2.89K  --.-KB/s    in 0s      \n",
            "\n",
            "2023-02-20 02:02:54 (59.9 MB/s) - ‘models.py’ saved [2961/2961]\n",
            "\n",
            "--2023-02-20 02:02:54--  https://raw.githubusercontent.com/karencfisher/forward-forward/main/layers.py\n",
            "Resolving raw.githubusercontent.com (raw.githubusercontent.com)... 185.199.108.133, 185.199.109.133, 185.199.110.133, ...\n",
            "Connecting to raw.githubusercontent.com (raw.githubusercontent.com)|185.199.108.133|:443... connected.\n",
            "HTTP request sent, awaiting response... 200 OK\n",
            "Length: 1613 (1.6K) [text/plain]\n",
            "Saving to: ‘layers.py’\n",
            "\n",
            "layers.py           100%[===================>]   1.58K  --.-KB/s    in 0s      \n",
            "\n",
            "2023-02-20 02:02:55 (31.6 MB/s) - ‘layers.py’ saved [1613/1613]\n",
            "\n",
            "--2023-02-20 02:02:55--  https://raw.githubusercontent.com/karencfisher/forward-forward/main/utils.py\n",
            "Resolving raw.githubusercontent.com (raw.githubusercontent.com)... 185.199.108.133, 185.199.109.133, 185.199.110.133, ...\n",
            "Connecting to raw.githubusercontent.com (raw.githubusercontent.com)|185.199.108.133|:443... connected.\n",
            "HTTP request sent, awaiting response... 200 OK\n",
            "Length: 951 [text/plain]\n",
            "Saving to: ‘utils.py’\n",
            "\n",
            "utils.py            100%[===================>]     951  --.-KB/s    in 0s      \n",
            "\n",
            "2023-02-20 02:02:55 (48.5 MB/s) - ‘utils.py’ saved [951/951]\n",
            "\n"
          ]
        }
      ]
    },
    {
      "cell_type": "code",
      "execution_count": 13,
      "metadata": {
        "id": "yB9IXzWRitHv"
      },
      "outputs": [],
      "source": [
        "import matplotlib.pyplot as plt\n",
        "import seaborn as sns\n",
        "import random\n",
        "import numpy as np\n",
        "\n",
        "from sklearn.metrics import accuracy_score, confusion_matrix\n",
        "\n",
        "from tensorflow.keras.datasets import mnist\n",
        "from tensorflow.keras.layers import Input, Flatten\n",
        "from tensorflow.keras.optimizers import Adam\n",
        "from tensorflow.keras.metrics import Mean\n",
        "from tensorflow.data import Dataset\n",
        "import tensorflow as tf\n",
        "\n",
        "\n",
        "import utils\n",
        "from layers import FFDense\n",
        "from models import FFNetwork"
      ]
    },
    {
      "cell_type": "code",
      "execution_count": 3,
      "metadata": {
        "colab": {
          "base_uri": "https://localhost:8080/",
          "height": 348
        },
        "id": "knUI4fmJitHy",
        "outputId": "bcf4daee-82ae-4281-87bd-5c5a12264b6a"
      },
      "outputs": [
        {
          "output_type": "stream",
          "name": "stdout",
          "text": [
            "Downloading data from https://storage.googleapis.com/tensorflow/tf-keras-datasets/mnist.npz\n",
            "11490434/11490434 [==============================] - 0s 0us/step\n"
          ]
        },
        {
          "output_type": "display_data",
          "data": {
            "text/plain": [
              "<Figure size 720x720 with 2 Axes>"
            ],
            "image/png": "[encoded data removed]"
          },
          "metadata": {
            "needs_background": "light"
          }
        }
      ],
      "source": [
        "(x_train, y_train), (x_test, y_test) = mnist.load_data()\n",
        "x_train = x_train.astype(float) / 255\n",
        "x_test = x_test.astype(float) / 255\n",
        "y_train = y_train.astype(int)\n",
        "y_test = y_test.astype(int)\n",
        "\n",
        "train_dataset = Dataset.from_tensor_slices((x_train, y_train))\n",
        "test_dataset = Dataset.from_tensor_slices((x_test, y_test))\n",
        "\n",
        "train_dataset = train_dataset.batch(60000)\n",
        "test_dataset = test_dataset.batch(10000)\n",
        "\n",
        "utils.show_samples(x_train, y_train, 2)"
      ]
    },
    {
      "cell_type": "code",
      "execution_count": 4,
      "metadata": {
        "id": "1lVsc4GwitH0"
      },
      "outputs": [],
      "source": [
        "model = FFNetwork([784, 500, 500])\n",
        "\n",
        "model.compile(\n",
        "    optimizer=Adam(learning_rate=0.03),\n",
        "    loss=\"mse\",\n",
        "    jit_compile=True,\n",
        "    metrics=[Mean()],\n",
        ")"
      ]
    },
    {
      "cell_type": "code",
      "execution_count": 5,
      "metadata": {
        "colab": {
          "base_uri": "https://localhost:8080/"
        },
        "id": "PU885y9yitH0",
        "outputId": "1ce98762-e36a-4a54-f179-5f3f242478a0"
      },
      "outputs": [
        {
          "output_type": "stream",
          "name": "stdout",
          "text": [
            "Epoch 1/100\n",
            "Training layer 1 now : \n",
            "Training layer 2 now : \n",
            "Training layer 1 now : \n",
            "Training layer 2 now : \n",
            "1/1 [==============================] - 83s 83s/step - FinalLoss: 0.7249\n",
            "Epoch 2/100\n",
            "1/1 [==============================] - 6s 6s/step - FinalLoss: 0.7085\n",
            "Epoch 3/100\n",
            "1/1 [==============================] - 6s 6s/step - FinalLoss: 0.6982\n",
            "Epoch 4/100\n",
            "1/1 [==============================] - 6s 6s/step - FinalLoss: 0.6830\n",
            "Epoch 5/100\n",
            "1/1 [==============================] - 6s 6s/step - FinalLoss: 0.6649\n",
            "Epoch 6/100\n",
            "1/1 [==============================] - 6s 6s/step - FinalLoss: 0.6467\n",
            "Epoch 7/100\n",
            "1/1 [==============================] - 6s 6s/step - FinalLoss: 0.6295\n",
            "Epoch 8/100\n",
            "1/1 [==============================] - 6s 6s/step - FinalLoss: 0.6137\n",
            "Epoch 9/100\n",
            "1/1 [==============================] - 6s 6s/step - FinalLoss: 0.5991\n",
            "Epoch 10/100\n",
            "1/1 [==============================] - 6s 6s/step - FinalLoss: 0.5859\n",
            "Epoch 11/100\n",
            "1/1 [==============================] - 6s 6s/step - FinalLoss: 0.5739\n",
            "Epoch 12/100\n",
            "1/1 [==============================] - 6s 6s/step - FinalLoss: 0.5629\n",
            "Epoch 13/100\n",
            "1/1 [==============================] - 6s 6s/step - FinalLoss: 0.5526\n",
            "Epoch 14/100\n",
            "1/1 [==============================] - 6s 6s/step - FinalLoss: 0.5432\n",
            "Epoch 15/100\n",
            "1/1 [==============================] - 6s 6s/step - FinalLoss: 0.5347\n",
            "Epoch 16/100\n",
            "1/1 [==============================] - 6s 6s/step - FinalLoss: 0.5267\n",
            "Epoch 17/100\n",
            "1/1 [==============================] - 6s 6s/step - FinalLoss: 0.5193\n",
            "Epoch 18/100\n",
            "1/1 [==============================] - 6s 6s/step - FinalLoss: 0.5126\n",
            "Epoch 19/100\n",
            "1/1 [==============================] - 6s 6s/step - FinalLoss: 0.5062\n",
            "Epoch 20/100\n",
            "1/1 [==============================] - 6s 6s/step - FinalLoss: 0.5002\n",
            "Epoch 21/100\n",
            "1/1 [==============================] - 6s 6s/step - FinalLoss: 0.4945\n",
            "Epoch 22/100\n",
            "1/1 [==============================] - 6s 6s/step - FinalLoss: 0.4893\n",
            "Epoch 23/100\n",
            "1/1 [==============================] - 6s 6s/step - FinalLoss: 0.4844\n",
            "Epoch 24/100\n",
            "1/1 [==============================] - 6s 6s/step - FinalLoss: 0.4797\n",
            "Epoch 25/100\n",
            "1/1 [==============================] - 6s 6s/step - FinalLoss: 0.4754\n",
            "Epoch 26/100\n",
            "1/1 [==============================] - 6s 6s/step - FinalLoss: 0.4712\n",
            "Epoch 27/100\n",
            "1/1 [==============================] - 6s 6s/step - FinalLoss: 0.4672\n",
            "Epoch 28/100\n",
            "1/1 [==============================] - 6s 6s/step - FinalLoss: 0.4634\n",
            "Epoch 29/100\n",
            "1/1 [==============================] - 6s 6s/step - FinalLoss: 0.4598\n",
            "Epoch 30/100\n",
            "1/1 [==============================] - 6s 6s/step - FinalLoss: 0.4563\n",
            "Epoch 31/100\n",
            "1/1 [==============================] - 6s 6s/step - FinalLoss: 0.4530\n",
            "Epoch 32/100\n",
            "1/1 [==============================] - 6s 6s/step - FinalLoss: 0.4499\n",
            "Epoch 33/100\n",
            "1/1 [==============================] - 6s 6s/step - FinalLoss: 0.4468\n",
            "Epoch 34/100\n",
            "1/1 [==============================] - 6s 6s/step - FinalLoss: 0.4440\n",
            "Epoch 35/100\n",
            "1/1 [==============================] - 6s 6s/step - FinalLoss: 0.4412\n",
            "Epoch 36/100\n",
            "1/1 [==============================] - 6s 6s/step - FinalLoss: 0.4386\n",
            "Epoch 37/100\n",
            "1/1 [==============================] - 6s 6s/step - FinalLoss: 0.4360\n",
            "Epoch 38/100\n",
            "1/1 [==============================] - 6s 6s/step - FinalLoss: 0.4336\n",
            "Epoch 39/100\n",
            "1/1 [==============================] - 6s 6s/step - FinalLoss: 0.4312\n",
            "Epoch 40/100\n",
            "1/1 [==============================] - 6s 6s/step - FinalLoss: 0.4289\n",
            "Epoch 41/100\n",
            "1/1 [==============================] - 6s 6s/step - FinalLoss: 0.4266\n",
            "Epoch 42/100\n",
            "1/1 [==============================] - 6s 6s/step - FinalLoss: 0.4245\n",
            "Epoch 43/100\n",
            "1/1 [==============================] - 6s 6s/step - FinalLoss: 0.4224\n",
            "Epoch 44/100\n",
            "1/1 [==============================] - 6s 6s/step - FinalLoss: 0.4204\n",
            "Epoch 45/100\n",
            "1/1 [==============================] - 6s 6s/step - FinalLoss: 0.4185\n",
            "Epoch 46/100\n",
            "1/1 [==============================] - 6s 6s/step - FinalLoss: 0.4166\n",
            "Epoch 47/100\n",
            "1/1 [==============================] - 6s 6s/step - FinalLoss: 0.4148\n",
            "Epoch 48/100\n",
            "1/1 [==============================] - 6s 6s/step - FinalLoss: 0.4130\n",
            "Epoch 49/100\n",
            "1/1 [==============================] - 6s 6s/step - FinalLoss: 0.4113\n",
            "Epoch 50/100\n",
            "1/1 [==============================] - 6s 6s/step - FinalLoss: 0.4097\n",
            "Epoch 51/100\n",
            "1/1 [==============================] - 6s 6s/step - FinalLoss: 0.4080\n",
            "Epoch 52/100\n",
            "1/1 [==============================] - 6s 6s/step - FinalLoss: 0.4064\n",
            "Epoch 53/100\n",
            "1/1 [==============================] - 6s 6s/step - FinalLoss: 0.4049\n",
            "Epoch 54/100\n",
            "1/1 [==============================] - 6s 6s/step - FinalLoss: 0.4034\n",
            "Epoch 55/100\n",
            "1/1 [==============================] - 6s 6s/step - FinalLoss: 0.4020\n",
            "Epoch 56/100\n",
            "1/1 [==============================] - 6s 6s/step - FinalLoss: 0.4005\n",
            "Epoch 57/100\n",
            "1/1 [==============================] - 6s 6s/step - FinalLoss: 0.3991\n",
            "Epoch 58/100\n",
            "1/1 [==============================] - 6s 6s/step - FinalLoss: 0.3978\n",
            "Epoch 59/100\n",
            "1/1 [==============================] - 6s 6s/step - FinalLoss: 0.3965\n",
            "Epoch 60/100\n",
            "1/1 [==============================] - 6s 6s/step - FinalLoss: 0.3953\n",
            "Epoch 61/100\n",
            "1/1 [==============================] - 6s 6s/step - FinalLoss: 0.3940\n",
            "Epoch 62/100\n",
            "1/1 [==============================] - 6s 6s/step - FinalLoss: 0.3928\n",
            "Epoch 63/100\n",
            "1/1 [==============================] - 6s 6s/step - FinalLoss: 0.3916\n",
            "Epoch 64/100\n",
            "1/1 [==============================] - 6s 6s/step - FinalLoss: 0.3904\n",
            "Epoch 65/100\n",
            "1/1 [==============================] - 6s 6s/step - FinalLoss: 0.3893\n",
            "Epoch 66/100\n",
            "1/1 [==============================] - 6s 6s/step - FinalLoss: 0.3882\n",
            "Epoch 67/100\n",
            "1/1 [==============================] - 6s 6s/step - FinalLoss: 0.3871\n",
            "Epoch 68/100\n",
            "1/1 [==============================] - 6s 6s/step - FinalLoss: 0.3860\n",
            "Epoch 69/100\n",
            "1/1 [==============================] - 6s 6s/step - FinalLoss: 0.3850\n",
            "Epoch 70/100\n",
            "1/1 [==============================] - 6s 6s/step - FinalLoss: 0.3839\n",
            "Epoch 71/100\n",
            "1/1 [==============================] - 6s 6s/step - FinalLoss: 0.3829\n",
            "Epoch 72/100\n",
            "1/1 [==============================] - 6s 6s/step - FinalLoss: 0.3819\n",
            "Epoch 73/100\n",
            "1/1 [==============================] - 6s 6s/step - FinalLoss: 0.3809\n",
            "Epoch 74/100\n",
            "1/1 [==============================] - 6s 6s/step - FinalLoss: 0.3800\n",
            "Epoch 75/100\n",
            "1/1 [==============================] - 6s 6s/step - FinalLoss: 0.3790\n",
            "Epoch 76/100\n",
            "1/1 [==============================] - 6s 6s/step - FinalLoss: 0.3781\n",
            "Epoch 77/100\n",
            "1/1 [==============================] - 6s 6s/step - FinalLoss: 0.3772\n",
            "Epoch 78/100\n",
            "1/1 [==============================] - 6s 6s/step - FinalLoss: 0.3763\n",
            "Epoch 79/100\n",
            "1/1 [==============================] - 6s 6s/step - FinalLoss: 0.3754\n",
            "Epoch 80/100\n",
            "1/1 [==============================] - 6s 6s/step - FinalLoss: 0.3746\n",
            "Epoch 81/100\n",
            "1/1 [==============================] - 6s 6s/step - FinalLoss: 0.3737\n",
            "Epoch 82/100\n",
            "1/1 [==============================] - 6s 6s/step - FinalLoss: 0.3729\n",
            "Epoch 83/100\n",
            "1/1 [==============================] - 6s 6s/step - FinalLoss: 0.3721\n",
            "Epoch 84/100\n",
            "1/1 [==============================] - 6s 6s/step - FinalLoss: 0.3713\n",
            "Epoch 85/100\n",
            "1/1 [==============================] - 6s 6s/step - FinalLoss: 0.3705\n",
            "Epoch 86/100\n",
            "1/1 [==============================] - 6s 6s/step - FinalLoss: 0.3697\n",
            "Epoch 87/100\n",
            "1/1 [==============================] - 6s 6s/step - FinalLoss: 0.3690\n",
            "Epoch 88/100\n",
            "1/1 [==============================] - 6s 6s/step - FinalLoss: 0.3682\n",
            "Epoch 89/100\n",
            "1/1 [==============================] - 6s 6s/step - FinalLoss: 0.3675\n",
            "Epoch 90/100\n",
            "1/1 [==============================] - 6s 6s/step - FinalLoss: 0.3667\n",
            "Epoch 91/100\n",
            "1/1 [==============================] - 6s 6s/step - FinalLoss: 0.3660\n",
            "Epoch 92/100\n",
            "1/1 [==============================] - 6s 6s/step - FinalLoss: 0.3653\n",
            "Epoch 93/100\n",
            "1/1 [==============================] - 6s 6s/step - FinalLoss: 0.3646\n",
            "Epoch 94/100\n",
            "1/1 [==============================] - 6s 6s/step - FinalLoss: 0.3639\n",
            "Epoch 95/100\n",
            "1/1 [==============================] - 6s 6s/step - FinalLoss: 0.3633\n",
            "Epoch 96/100\n",
            "1/1 [==============================] - 6s 6s/step - FinalLoss: 0.3626\n",
            "Epoch 97/100\n",
            "1/1 [==============================] - 6s 6s/step - FinalLoss: 0.3619\n",
            "Epoch 98/100\n",
            "1/1 [==============================] - 6s 6s/step - FinalLoss: 0.3613\n",
            "Epoch 99/100\n",
            "1/1 [==============================] - 6s 6s/step - FinalLoss: 0.3606\n",
            "Epoch 100/100\n",
            "1/1 [==============================] - 6s 6s/step - FinalLoss: 0.3600\n"
          ]
        }
      ],
      "source": [
        "history = model.fit(train_dataset, epochs=100, verbose=1)"
      ]
    },
    {
      "cell_type": "code",
      "source": [
        "preds = model.predict(tf.convert_to_tensor(x_test))\n",
        "preds = preds.reshape((preds.shape[0], preds.shape[1]))\n",
        "results = accuracy_score(preds, y_test)\n",
        "print(f\"Test Accuracy score : {results*100}%\")\n",
        "\n",
        "plt.plot(range(len(history.history[\"FinalLoss\"])), history.history[\"FinalLoss\"])\n",
        "plt.title(\"Loss over training\")\n",
        "plt.show()"
      ],
      "metadata": {
        "colab": {
          "base_uri": "https://localhost:8080/",
          "height": 299
        },
        "id": "0_03mOx3nGNw",
        "outputId": "0907a73c-44ef-4daf-8ddb-8ca74ec3c8cf"
      },
      "execution_count": 12,
      "outputs": [
        {
          "output_type": "stream",
          "name": "stdout",
          "text": [
            "Test Accuracy score : 96.47%\n"
          ]
        },
        {
          "output_type": "display_data",
          "data": {
            "text/plain": [
              "<Figure size 432x288 with 1 Axes>"
            ],
            "image/png": "[encoded data removed]"
          },
          "metadata": {
            "needs_background": "light"
          }
        }
      ]
    },
    {
      "cell_type": "code",
      "source": [
        "plt.figure(figsize=(10, 10))\n",
        "cm = confusion_matrix(preds, y_test)\n",
        "sns.heatmap(cm, annot=True, fmt='2d', cbar=False, cmap='rocket')\n",
        "plt.title('Confusion Matrix')\n",
        "plt.show()"
      ],
      "metadata": {
        "id": "TjI4WCOFo_bl",
        "outputId": "eefd9885-2891-4c98-e64e-64ebb8781985",
        "colab": {
          "base_uri": "https://localhost:8080/",
          "height": 607
        }
      },
      "execution_count": 23,
      "outputs": [
        {
          "output_type": "display_data",
          "data": {
            "text/plain": [
              "<Figure size 720x720 with 1 Axes>"
            ],
            "image/png": "[encoded data removed]"
          },
          "metadata": {
            "needs_background": "light"
          }
        }
      ]
    },
    {
      "cell_type": "code",
      "source": [],
      "metadata": {
        "id": "pwcWVfz9perH"
      },
      "execution_count": null,
      "outputs": []
    }
  ],
  "metadata": {
    "kernelspec": {
      "display_name": "fwd-fwd",
      "language": "python",
      "name": "python3"
    },
    "language_info": {
      "codemirror_mode": {
        "name": "ipython",
        "version": 3
      },
      "file_extension": ".py",
      "mimetype": "text/x-python",
      "name": "python",
      "nbconvert_exporter": "python",
      "pygments_lexer": "ipython3",
      "version": "3.8.8"
    },
    "orig_nbformat": 4,
    "vscode": {
      "interpreter": {
        "hash": "5a03d549c8c89287aea3f393b3a8601a7ab6b8fcd91759cf2fb0b9134b8f0c4a"
      }
    },
    "colab": {
      "provenance": []
    },
    "accelerator": "GPU",
    "gpuClass": "standard"
  },
  "nbformat": 4,
  "nbformat_minor": 0
}